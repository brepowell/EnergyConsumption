{
 "cells": [
  {
   "cell_type": "code",
   "execution_count": 139,
   "metadata": {},
   "outputs": [
    {
     "data": {
      "text/html": [
       "<div>\n",
       "<style scoped>\n",
       "    .dataframe tbody tr th:only-of-type {\n",
       "        vertical-align: middle;\n",
       "    }\n",
       "\n",
       "    .dataframe tbody tr th {\n",
       "        vertical-align: top;\n",
       "    }\n",
       "\n",
       "    .dataframe thead th {\n",
       "        text-align: right;\n",
       "    }\n",
       "</style>\n",
       "<table border=\"1\" class=\"dataframe\">\n",
       "  <thead>\n",
       "    <tr style=\"text-align: right;\">\n",
       "      <th></th>\n",
       "      <th>energy(kWh/hh)</th>\n",
       "      <th>isNA</th>\n",
       "      <th>year</th>\n",
       "      <th>month</th>\n",
       "      <th>day</th>\n",
       "      <th>hour</th>\n",
       "      <th>minute</th>\n",
       "      <th>dayNumber</th>\n",
       "      <th>weekend</th>\n",
       "      <th>CustomerCount</th>\n",
       "      <th>dipDay</th>\n",
       "      <th>ToU</th>\n",
       "      <th>AG__ACORN-</th>\n",
       "      <th>AG__ACORN-U</th>\n",
       "      <th>AG__Adversity</th>\n",
       "      <th>AG__Affluent</th>\n",
       "      <th>AG__Comfortable</th>\n",
       "    </tr>\n",
       "  </thead>\n",
       "  <tbody>\n",
       "    <tr>\n",
       "      <th>151035318</th>\n",
       "      <td>1.044</td>\n",
       "      <td>0</td>\n",
       "      <td>2012</td>\n",
       "      <td>11</td>\n",
       "      <td>29</td>\n",
       "      <td>20</td>\n",
       "      <td>30</td>\n",
       "      <td>3</td>\n",
       "      <td>0</td>\n",
       "      <td>5530.0</td>\n",
       "      <td>0</td>\n",
       "      <td>0</td>\n",
       "      <td>0</td>\n",
       "      <td>0</td>\n",
       "      <td>0</td>\n",
       "      <td>1</td>\n",
       "      <td>0</td>\n",
       "    </tr>\n",
       "    <tr>\n",
       "      <th>151035319</th>\n",
       "      <td>0.932</td>\n",
       "      <td>0</td>\n",
       "      <td>2012</td>\n",
       "      <td>11</td>\n",
       "      <td>29</td>\n",
       "      <td>21</td>\n",
       "      <td>0</td>\n",
       "      <td>3</td>\n",
       "      <td>0</td>\n",
       "      <td>5530.0</td>\n",
       "      <td>0</td>\n",
       "      <td>0</td>\n",
       "      <td>0</td>\n",
       "      <td>0</td>\n",
       "      <td>0</td>\n",
       "      <td>1</td>\n",
       "      <td>0</td>\n",
       "    </tr>\n",
       "    <tr>\n",
       "      <th>151035320</th>\n",
       "      <td>0.700</td>\n",
       "      <td>0</td>\n",
       "      <td>2012</td>\n",
       "      <td>11</td>\n",
       "      <td>29</td>\n",
       "      <td>21</td>\n",
       "      <td>30</td>\n",
       "      <td>3</td>\n",
       "      <td>0</td>\n",
       "      <td>5530.0</td>\n",
       "      <td>0</td>\n",
       "      <td>0</td>\n",
       "      <td>0</td>\n",
       "      <td>0</td>\n",
       "      <td>0</td>\n",
       "      <td>1</td>\n",
       "      <td>0</td>\n",
       "    </tr>\n",
       "    <tr>\n",
       "      <th>151035321</th>\n",
       "      <td>0.828</td>\n",
       "      <td>0</td>\n",
       "      <td>2012</td>\n",
       "      <td>11</td>\n",
       "      <td>29</td>\n",
       "      <td>22</td>\n",
       "      <td>0</td>\n",
       "      <td>3</td>\n",
       "      <td>0</td>\n",
       "      <td>5530.0</td>\n",
       "      <td>0</td>\n",
       "      <td>0</td>\n",
       "      <td>0</td>\n",
       "      <td>0</td>\n",
       "      <td>0</td>\n",
       "      <td>1</td>\n",
       "      <td>0</td>\n",
       "    </tr>\n",
       "    <tr>\n",
       "      <th>151035322</th>\n",
       "      <td>1.048</td>\n",
       "      <td>0</td>\n",
       "      <td>2012</td>\n",
       "      <td>11</td>\n",
       "      <td>29</td>\n",
       "      <td>22</td>\n",
       "      <td>30</td>\n",
       "      <td>3</td>\n",
       "      <td>0</td>\n",
       "      <td>5530.0</td>\n",
       "      <td>0</td>\n",
       "      <td>0</td>\n",
       "      <td>0</td>\n",
       "      <td>0</td>\n",
       "      <td>0</td>\n",
       "      <td>1</td>\n",
       "      <td>0</td>\n",
       "    </tr>\n",
       "  </tbody>\n",
       "</table>\n",
       "</div>"
      ],
      "text/plain": [
       "           energy(kWh/hh)  isNA  year  month  day  hour  minute  dayNumber  \\\n",
       "151035318           1.044     0  2012     11   29    20      30          3   \n",
       "151035319           0.932     0  2012     11   29    21       0          3   \n",
       "151035320           0.700     0  2012     11   29    21      30          3   \n",
       "151035321           0.828     0  2012     11   29    22       0          3   \n",
       "151035322           1.048     0  2012     11   29    22      30          3   \n",
       "\n",
       "           weekend  CustomerCount  dipDay  ToU  AG__ACORN-  AG__ACORN-U  \\\n",
       "151035318        0         5530.0       0    0           0            0   \n",
       "151035319        0         5530.0       0    0           0            0   \n",
       "151035320        0         5530.0       0    0           0            0   \n",
       "151035321        0         5530.0       0    0           0            0   \n",
       "151035322        0         5530.0       0    0           0            0   \n",
       "\n",
       "           AG__Adversity  AG__Affluent  AG__Comfortable  \n",
       "151035318              0             1                0  \n",
       "151035319              0             1                0  \n",
       "151035320              0             1                0  \n",
       "151035321              0             1                0  \n",
       "151035322              0             1                0  "
      ]
     },
     "execution_count": 139,
     "metadata": {},
     "output_type": "execute_result"
    }
   ],
   "source": [
    "# Adapted from:\n",
    "# https://medium.com/@ms_somanna/guide-to-adding-noise-to-your-data-using-python-and-numpy-c8be815df524\n",
    "\n",
    "import numpy as np\n",
    "import pandas as pd\n",
    "import matplotlib.pyplot as plt\n",
    "import tensorflow as tf\n",
    "import numpy as np\n",
    "import numexpr\n",
    "import bottleneck\n",
    "\n",
    "path = \"Data/pickles/\"\n",
    "\n",
    "# Use the non-normalized data for this:\n",
    "test_df = pd.read_pickle(path + \"data_test.pkl\")\n",
    "\n",
    "test_df.head()"
   ]
  },
  {
   "cell_type": "code",
   "execution_count": 140,
   "metadata": {},
   "outputs": [
    {
     "data": {
      "text/plain": [
       "(16781703, 17)"
      ]
     },
     "execution_count": 140,
     "metadata": {},
     "output_type": "execute_result"
    }
   ],
   "source": [
    "test_df.shape"
   ]
  },
  {
   "cell_type": "code",
   "execution_count": 141,
   "metadata": {},
   "outputs": [
    {
     "data": {
      "text/plain": [
       "151035318    1.044\n",
       "151035319    0.932\n",
       "151035320    0.700\n",
       "151035321    0.828\n",
       "151035322    1.048\n",
       "Name: energy(kWh/hh), dtype: float64"
      ]
     },
     "execution_count": 141,
     "metadata": {},
     "output_type": "execute_result"
    }
   ],
   "source": [
    "y = test_df[\"energy(kWh/hh)\"]\n",
    "y[0:5]"
   ]
  },
  {
   "cell_type": "markdown",
   "metadata": {},
   "source": [
    "# Amount of Noise"
   ]
  },
  {
   "cell_type": "code",
   "execution_count": 142,
   "metadata": {},
   "outputs": [],
   "source": [
    "dataSize = y.size\n",
    "\n",
    "# Set the percentage of data that should contain noise\n",
    "noise_percentage = 0.1  # Setting to 10% noise\n",
    "\n",
    "# Determine the size of the noise based on the noise precentage\n",
    "noise_size = int(noise_percentage*dataSize)\n",
    "\n",
    "# Randomly select indices for adding noise.\n",
    "random_indices = np.random.choice(dataSize, noise_size)"
   ]
  },
  {
   "cell_type": "markdown",
   "metadata": {},
   "source": [
    "# Gaussian Noise"
   ]
  },
  {
   "cell_type": "code",
   "execution_count": 143,
   "metadata": {},
   "outputs": [],
   "source": [
    "std_deviation = 0.25\n",
    "mean = 2\n",
    "\n",
    "y_gaussian_noise = np.random.normal(mean, std_deviation, noise_size)"
   ]
  },
  {
   "cell_type": "code",
   "execution_count": 144,
   "metadata": {},
   "outputs": [],
   "source": [
    "# Apply Gaussian noise only to the selected indices in gaussian_noise\n",
    "gaussian_noise = y.copy()\n",
    "gaussian_noise.to_numpy().flat[random_indices] += y_gaussian_noise"
   ]
  },
  {
   "cell_type": "code",
   "execution_count": 145,
   "metadata": {},
   "outputs": [],
   "source": [
    "gaussianData = test_df.copy()"
   ]
  },
  {
   "cell_type": "code",
   "execution_count": 146,
   "metadata": {},
   "outputs": [],
   "source": [
    "gaussianData[\"energy(kWh/hh)\"] = gaussian_noise"
   ]
  },
  {
   "cell_type": "code",
   "execution_count": 147,
   "metadata": {},
   "outputs": [
    {
     "name": "stdout",
     "output_type": "stream",
     "text": [
      "Rows in df2 with different values from df1:\n",
      "           energy(kWh/hh)  isNA  year  month  day  hour  minute  dayNumber  \\\n",
      "151035337        2.449307     0  2012     11   30     6       0          4   \n",
      "151035342        2.567269     0  2012     11   30     8      30          4   \n",
      "151035344        2.496551     0  2012     11   30     9      30          4   \n",
      "151035346        2.246264     0  2012     11   30    10      30          4   \n",
      "151035358        2.321848     0  2012     11   30    16      30          4   \n",
      "\n",
      "           weekend  CustomerCount  dipDay  ToU  AG__ACORN-  AG__ACORN-U  \\\n",
      "151035337        0         5529.0       0    0           0            0   \n",
      "151035342        0         5529.0       0    0           0            0   \n",
      "151035344        0         5529.0       0    0           0            0   \n",
      "151035346        0         5529.0       0    0           0            0   \n",
      "151035358        0         5529.0       0    0           0            0   \n",
      "\n",
      "           AG__Adversity  AG__Affluent  AG__Comfortable  \n",
      "151035337              0             1                0  \n",
      "151035342              0             1                0  \n",
      "151035344              0             1                0  \n",
      "151035346              0             1                0  \n",
      "151035358              0             1                0  \n"
     ]
    }
   ],
   "source": [
    "# Find rows where values in df2 differ from df1\n",
    "mask = (gaussianData != test_df).any(axis=1)\n",
    "\n",
    "# Select 5 rows from df2 where values are different from df1\n",
    "different_rows_df2 = gaussianData[mask].head(5)\n",
    "\n",
    "# Print the selected rows\n",
    "print(\"Rows in df2 with different values from df1:\")\n",
    "print(different_rows_df2)"
   ]
  },
  {
   "cell_type": "code",
   "execution_count": 148,
   "metadata": {},
   "outputs": [
    {
     "data": {
      "text/plain": [
       "count    1.678170e+07\n",
       "mean     3.476376e-01\n",
       "std      6.360670e-01\n",
       "min      0.000000e+00\n",
       "25%      4.800000e-02\n",
       "50%      1.020000e-01\n",
       "75%      2.360000e-01\n",
       "max      7.397589e+00\n",
       "Name: energy(kWh/hh), dtype: float64"
      ]
     },
     "execution_count": 148,
     "metadata": {},
     "output_type": "execute_result"
    }
   ],
   "source": [
    "gaussianData[\"energy(kWh/hh)\"].describe().transpose()"
   ]
  },
  {
   "cell_type": "code",
   "execution_count": 149,
   "metadata": {},
   "outputs": [
    {
     "data": {
      "text/plain": [
       "count    1.678170e+07\n",
       "mean     1.573662e-01\n",
       "std      2.331511e-01\n",
       "min      0.000000e+00\n",
       "25%      4.500000e-02\n",
       "50%      8.900000e-02\n",
       "75%      1.770000e-01\n",
       "max      5.629000e+00\n",
       "Name: energy(kWh/hh), dtype: float64"
      ]
     },
     "execution_count": 149,
     "metadata": {},
     "output_type": "execute_result"
    }
   ],
   "source": [
    "test_df[\"energy(kWh/hh)\"].describe().transpose()"
   ]
  },
  {
   "cell_type": "code",
   "execution_count": 150,
   "metadata": {},
   "outputs": [],
   "source": [
    "# Save\n",
    "path = \"Data/pickles/\"\n",
    "gaussianData.to_pickle(path + \"data_noisy_gaussian_test.pkl\")"
   ]
  },
  {
   "cell_type": "markdown",
   "metadata": {},
   "source": [
    "# Salt and Pepper Noise"
   ]
  },
  {
   "cell_type": "code",
   "execution_count": 151,
   "metadata": {},
   "outputs": [],
   "source": [
    "# Create a copy of the test data\n",
    "y_peppered = y.copy()\n",
    "\n",
    "# Create a noise list with random placements of min and max values\n",
    "noise = np.random.choice([y.min(), y.max()], noise_size)\n",
    "\n",
    "# Replace the values of the templated noised at random indices\n",
    "y_peppered.to_numpy().flat[random_indices] = noise\n",
    "\n",
    "pepperedData = test_df.copy()\n",
    "pepperedData[\"energy(kWh/hh)\"] = y_peppered"
   ]
  },
  {
   "cell_type": "code",
   "execution_count": 152,
   "metadata": {},
   "outputs": [
    {
     "name": "stdout",
     "output_type": "stream",
     "text": [
      "Rows in df2 with different values from df1:\n",
      "           energy(kWh/hh)  isNA  year  month  day  hour  minute  dayNumber  \\\n",
      "151035337           5.629     0  2012     11   30     6       0          4   \n",
      "151035342           0.000     0  2012     11   30     8      30          4   \n",
      "151035344           0.000     0  2012     11   30     9      30          4   \n",
      "151035346           5.629     0  2012     11   30    10      30          4   \n",
      "151035358           5.629     0  2012     11   30    16      30          4   \n",
      "\n",
      "           weekend  CustomerCount  dipDay  ToU  AG__ACORN-  AG__ACORN-U  \\\n",
      "151035337        0         5529.0       0    0           0            0   \n",
      "151035342        0         5529.0       0    0           0            0   \n",
      "151035344        0         5529.0       0    0           0            0   \n",
      "151035346        0         5529.0       0    0           0            0   \n",
      "151035358        0         5529.0       0    0           0            0   \n",
      "\n",
      "           AG__Adversity  AG__Affluent  AG__Comfortable  \n",
      "151035337              0             1                0  \n",
      "151035342              0             1                0  \n",
      "151035344              0             1                0  \n",
      "151035346              0             1                0  \n",
      "151035358              0             1                0  \n"
     ]
    }
   ],
   "source": [
    "# Find rows where values in df2 differ from df1\n",
    "mask = (pepperedData != test_df).any(axis=1)\n",
    "\n",
    "# Select 5 rows from df2 where values are different from df1\n",
    "different_rows_df2 = pepperedData[mask].head(5)\n",
    "\n",
    "# Print the selected rows\n",
    "print(\"Rows in df2 with different values from df1:\")\n",
    "print(different_rows_df2)"
   ]
  },
  {
   "cell_type": "code",
   "execution_count": 153,
   "metadata": {},
   "outputs": [
    {
     "data": {
      "text/plain": [
       "count    1.678170e+07\n",
       "mean     4.101343e-01\n",
       "std      1.187641e+00\n",
       "min      0.000000e+00\n",
       "25%      4.100000e-02\n",
       "50%      8.900000e-02\n",
       "75%      1.940000e-01\n",
       "max      5.629000e+00\n",
       "Name: energy(kWh/hh), dtype: float64"
      ]
     },
     "execution_count": 153,
     "metadata": {},
     "output_type": "execute_result"
    }
   ],
   "source": [
    "pepperedData[\"energy(kWh/hh)\"].describe().transpose()"
   ]
  },
  {
   "cell_type": "code",
   "execution_count": 154,
   "metadata": {},
   "outputs": [
    {
     "data": {
      "text/plain": [
       "count    1.678170e+07\n",
       "mean     1.573662e-01\n",
       "std      2.331511e-01\n",
       "min      0.000000e+00\n",
       "25%      4.500000e-02\n",
       "50%      8.900000e-02\n",
       "75%      1.770000e-01\n",
       "max      5.629000e+00\n",
       "Name: energy(kWh/hh), dtype: float64"
      ]
     },
     "execution_count": 154,
     "metadata": {},
     "output_type": "execute_result"
    }
   ],
   "source": [
    "test_df[\"energy(kWh/hh)\"].describe().transpose()"
   ]
  },
  {
   "cell_type": "code",
   "execution_count": 155,
   "metadata": {},
   "outputs": [],
   "source": [
    "# Save\n",
    "path = \"Data/pickles/\"\n",
    "pepperedData.to_pickle(path + \"data_noisy_pepper_test.pkl\")"
   ]
  },
  {
   "cell_type": "markdown",
   "metadata": {},
   "source": [
    "# Targeted Noise"
   ]
  },
  {
   "cell_type": "code",
   "execution_count": 156,
   "metadata": {},
   "outputs": [],
   "source": [
    "y_targeted = y.copy()\n",
    "\n",
    "noise = 2.4\n",
    "\n",
    "# Replace the values of the templated noised at random indices\n",
    "y_targeted.to_numpy().flat[random_indices < 1] = noise\n",
    "\n",
    "targetedData = test_df.copy()\n",
    "targetedData[\"energy(kWh/hh)\"] = y_targeted"
   ]
  },
  {
   "cell_type": "code",
   "execution_count": 157,
   "metadata": {},
   "outputs": [
    {
     "name": "stdout",
     "output_type": "stream",
     "text": [
      "Rows in df2 with different values from df1:\n",
      "Empty DataFrame\n",
      "Columns: [energy(kWh/hh), isNA, year, month, day, hour, minute, dayNumber, weekend, CustomerCount, dipDay, ToU, AG__ACORN-, AG__ACORN-U, AG__Adversity, AG__Affluent, AG__Comfortable]\n",
      "Index: []\n"
     ]
    }
   ],
   "source": [
    "# Find rows where values in df2 differ from df1\n",
    "mask = (targetedData != test_df).any(axis=1)\n",
    "\n",
    "# Select 5 rows from df2 where values are different from df1\n",
    "different_rows_df2 = targetedData[mask].head(5)\n",
    "\n",
    "# Print the selected rows\n",
    "print(\"Rows in df2 with different values from df1:\")\n",
    "print(different_rows_df2)"
   ]
  },
  {
   "cell_type": "code",
   "execution_count": 158,
   "metadata": {},
   "outputs": [
    {
     "data": {
      "text/plain": [
       "count    1.678170e+07\n",
       "mean     1.573662e-01\n",
       "std      2.331511e-01\n",
       "min      0.000000e+00\n",
       "25%      4.500000e-02\n",
       "50%      8.900000e-02\n",
       "75%      1.770000e-01\n",
       "max      5.629000e+00\n",
       "Name: energy(kWh/hh), dtype: float64"
      ]
     },
     "execution_count": 158,
     "metadata": {},
     "output_type": "execute_result"
    }
   ],
   "source": [
    "targetedData[\"energy(kWh/hh)\"].describe().transpose()"
   ]
  },
  {
   "cell_type": "code",
   "execution_count": 159,
   "metadata": {},
   "outputs": [
    {
     "data": {
      "text/plain": [
       "count    1.678170e+07\n",
       "mean     1.573662e-01\n",
       "std      2.331511e-01\n",
       "min      0.000000e+00\n",
       "25%      4.500000e-02\n",
       "50%      8.900000e-02\n",
       "75%      1.770000e-01\n",
       "max      5.629000e+00\n",
       "Name: energy(kWh/hh), dtype: float64"
      ]
     },
     "execution_count": 159,
     "metadata": {},
     "output_type": "execute_result"
    }
   ],
   "source": [
    "test_df[\"energy(kWh/hh)\"].describe().transpose()"
   ]
  },
  {
   "cell_type": "code",
   "execution_count": 160,
   "metadata": {},
   "outputs": [],
   "source": [
    "# Save\n",
    "path = \"Data/pickles/\"\n",
    "pepperedData.to_pickle(path + \"data_noisy_targeted_test.pkl\")"
   ]
  }
 ],
 "metadata": {
  "kernelspec": {
   "display_name": "base",
   "language": "python",
   "name": "python3"
  },
  "language_info": {
   "codemirror_mode": {
    "name": "ipython",
    "version": 3
   },
   "file_extension": ".py",
   "mimetype": "text/x-python",
   "name": "python",
   "nbconvert_exporter": "python",
   "pygments_lexer": "ipython3",
   "version": "3.10.9"
  }
 },
 "nbformat": 4,
 "nbformat_minor": 2
}

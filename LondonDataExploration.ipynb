{
  "cells": [
    {
      "cell_type": "markdown",
      "metadata": {
        "colab_type": "text",
        "id": "view-in-github"
      },
      "source": [
        "<a href=\"https://colab.research.google.com/github/brepowell/ML-Contest-Series/blob/main/MLSeriesSupervisedLearningTemplate.ipynb\" target=\"_parent\"><img src=\"https://colab.research.google.com/assets/colab-badge.svg\" alt=\"Open In Colab\"/></a>"
      ]
    },
    {
      "cell_type": "markdown",
      "metadata": {
        "id": "FM6YqhcasT5w"
      },
      "source": [
        "# To run:\n",
        "Use an IDE that will allow you to open a Jupyter Notebook.\n",
        "\n",
        "For example, use Anaconda Navigator to open Visual Studio Code.\n",
        "\n",
        "You may need to select a kernel to run the program."
      ]
    },
    {
      "cell_type": "markdown",
      "metadata": {
        "id": "05Z04BNFs2Li"
      },
      "source": [
        "# STEP 1: DATA GATHERING / FEATURE EXPLORATION"
      ]
    },
    {
      "cell_type": "markdown",
      "metadata": {
        "id": "mA7frvLc7vtj"
      },
      "source": [
        "## Import Libraries"
      ]
    },
    {
      "cell_type": "code",
      "execution_count": 137,
      "metadata": {
        "id": "MHcOyHzp7x5l"
      },
      "outputs": [],
      "source": [
        "# This step can be done in any cell of the notebook. It does not have to be at the top.\n",
        "import pandas as pd\n"
      ]
    },
    {
      "cell_type": "markdown",
      "metadata": {},
      "source": [
        "## Data Information"
      ]
    },
    {
      "cell_type": "markdown",
      "metadata": {},
      "source": [
        "From\n",
        "https://data.london.gov.uk/dataset/smartmeter-energy-use-data-in-london-households\n",
        "\n",
        "\"Created 9 years ago, updated 2 years ago\n",
        "Energy consumption readings for a sample of 5,567 London Households that took part in the UK Power Networks led Low Carbon London project between November 2011 and February 2014.\n",
        "\n",
        "Readings were taken at half hourly intervals. The customers in the trial were recruited as a balanced sample representative of the Greater London population.\n",
        "\n",
        "The dataset contains energy consumption, in kWh (per half hour), unique household identifier, date and time. The CSV file is around 10GB when unzipped and contains around 167million rows.\n",
        "\n",
        "Within the data set are two groups of customers. The first is a sub-group, of approximately 1100 customers, who were subjected to Dynamic Time of Use (dToU) energy prices throughout the 2013 calendar year period. The tariff prices were given a day ahead via the Smart Meter IHD (In Home Display) or text message to mobile phone. Customers were issued High (67.20p/kWh), Low (3.99p/kWh) or normal (11.76p/kWh) price signals and the times of day these applied. The dates/times and the price signal schedule is availaible as part of this dataset. All non-Time of Use customers were on a flat rate tariff of 14.228pence/kWh.\n",
        "\n",
        "The signals given were designed to be representative of the types of signal that may be used in the future to manage both high renewable generation (supply following) operation and also test the potential to use high price signals to reduce stress on local distribution grids during periods of stress.\n",
        "\n",
        "The remaining sample of approximately 4500 customers energy consumption readings were not subject to the dToU tariff.\"\n"
      ]
    },
    {
      "cell_type": "markdown",
      "metadata": {
        "id": "EzGtbSkGvEJi"
      },
      "source": [
        "## Load Data -- Daily"
      ]
    },
    {
      "cell_type": "code",
      "execution_count": 138,
      "metadata": {
        "id": "6s_C4qtUv1KR"
      },
      "outputs": [
        {
          "data": {
            "text/plain": [
              "(3510433, 9)"
            ]
          },
          "execution_count": 138,
          "metadata": {},
          "output_type": "execute_result"
        }
      ],
      "source": [
        "# Use Pandas to load the data into a dataframe\n",
        "path = \"data/archive/\"\n",
        "startYear = 2011\n",
        "endYear = 2014\n",
        "\n",
        "londonData = pd.read_csv(path + 'daily_dataset.csv')\n",
        "londonData.shape\n"
      ]
    },
    {
      "cell_type": "markdown",
      "metadata": {},
      "source": [
        "## Load Data -- Half Hourly"
      ]
    },
    {
      "cell_type": "code",
      "execution_count": 139,
      "metadata": {},
      "outputs": [
        {
          "data": {
            "text/plain": [
              "(1222670, 3)"
            ]
          },
          "execution_count": 139,
          "metadata": {},
          "output_type": "execute_result"
        }
      ],
      "source": [
        "# tstp = Time Series Time Period (day)\n",
        "# This shows readings every half hour (LCLid + tstp + energy(kWh/hh) = 3 columns)\n",
        "path = \"data/archive/halfhourly_dataset/halfhourly_dataset/\"\n",
        "block1 = pd.read_csv(path + 'block_0.csv')\n",
        "block1.shape\n"
      ]
    },
    {
      "cell_type": "markdown",
      "metadata": {},
      "source": [
        "## Load Data -- Half Hourly 2nd set"
      ]
    },
    {
      "cell_type": "code",
      "execution_count": 140,
      "metadata": {},
      "outputs": [
        {
          "data": {
            "text/plain": [
              "(25286, 50)"
            ]
          },
          "execution_count": 140,
          "metadata": {},
          "output_type": "execute_result"
        }
      ],
      "source": [
        "# This shows readings every half hour (LCLid + day + 48 half hour columns = 50 columns) per day, per ID\n",
        "# It is the same data as the halfhourly_dataset, except formatted differently and with more precision.\n",
        "path = \"data/archive/hhblock_dataset/hhblock_dataset/\"\n",
        "halfblock0 = pd.read_csv(path + 'block_0.csv')\n",
        "halfblock0.shape"
      ]
    },
    {
      "cell_type": "markdown",
      "metadata": {
        "id": "P1hRxCZs57tT"
      },
      "source": [
        "## Check the Min/Max/Avg -- Daily"
      ]
    },
    {
      "cell_type": "code",
      "execution_count": 141,
      "metadata": {},
      "outputs": [
        {
          "data": {
            "text/html": [
              "<div>\n",
              "<style scoped>\n",
              "    .dataframe tbody tr th:only-of-type {\n",
              "        vertical-align: middle;\n",
              "    }\n",
              "\n",
              "    .dataframe tbody tr th {\n",
              "        vertical-align: top;\n",
              "    }\n",
              "\n",
              "    .dataframe thead th {\n",
              "        text-align: right;\n",
              "    }\n",
              "</style>\n",
              "<table border=\"1\" class=\"dataframe\">\n",
              "  <thead>\n",
              "    <tr style=\"text-align: right;\">\n",
              "      <th></th>\n",
              "      <th>LCLid</th>\n",
              "      <th>day</th>\n",
              "      <th>energy_median</th>\n",
              "      <th>energy_mean</th>\n",
              "      <th>energy_max</th>\n",
              "      <th>energy_count</th>\n",
              "      <th>energy_std</th>\n",
              "      <th>energy_sum</th>\n",
              "      <th>energy_min</th>\n",
              "    </tr>\n",
              "  </thead>\n",
              "  <tbody>\n",
              "    <tr>\n",
              "      <th>0</th>\n",
              "      <td>MAC000131</td>\n",
              "      <td>2011-12-15</td>\n",
              "      <td>0.4850</td>\n",
              "      <td>0.432045</td>\n",
              "      <td>0.868</td>\n",
              "      <td>22</td>\n",
              "      <td>0.239146</td>\n",
              "      <td>9.505</td>\n",
              "      <td>0.072</td>\n",
              "    </tr>\n",
              "    <tr>\n",
              "      <th>1</th>\n",
              "      <td>MAC000131</td>\n",
              "      <td>2011-12-16</td>\n",
              "      <td>0.1415</td>\n",
              "      <td>0.296167</td>\n",
              "      <td>1.116</td>\n",
              "      <td>48</td>\n",
              "      <td>0.281471</td>\n",
              "      <td>14.216</td>\n",
              "      <td>0.031</td>\n",
              "    </tr>\n",
              "    <tr>\n",
              "      <th>2</th>\n",
              "      <td>MAC000131</td>\n",
              "      <td>2011-12-17</td>\n",
              "      <td>0.1015</td>\n",
              "      <td>0.189812</td>\n",
              "      <td>0.685</td>\n",
              "      <td>48</td>\n",
              "      <td>0.188405</td>\n",
              "      <td>9.111</td>\n",
              "      <td>0.064</td>\n",
              "    </tr>\n",
              "    <tr>\n",
              "      <th>3</th>\n",
              "      <td>MAC000131</td>\n",
              "      <td>2011-12-18</td>\n",
              "      <td>0.1140</td>\n",
              "      <td>0.218979</td>\n",
              "      <td>0.676</td>\n",
              "      <td>48</td>\n",
              "      <td>0.202919</td>\n",
              "      <td>10.511</td>\n",
              "      <td>0.065</td>\n",
              "    </tr>\n",
              "    <tr>\n",
              "      <th>4</th>\n",
              "      <td>MAC000131</td>\n",
              "      <td>2011-12-19</td>\n",
              "      <td>0.1910</td>\n",
              "      <td>0.325979</td>\n",
              "      <td>0.788</td>\n",
              "      <td>48</td>\n",
              "      <td>0.259205</td>\n",
              "      <td>15.647</td>\n",
              "      <td>0.066</td>\n",
              "    </tr>\n",
              "  </tbody>\n",
              "</table>\n",
              "</div>"
            ],
            "text/plain": [
              "       LCLid         day  energy_median  energy_mean  energy_max  \\\n",
              "0  MAC000131  2011-12-15         0.4850     0.432045       0.868   \n",
              "1  MAC000131  2011-12-16         0.1415     0.296167       1.116   \n",
              "2  MAC000131  2011-12-17         0.1015     0.189812       0.685   \n",
              "3  MAC000131  2011-12-18         0.1140     0.218979       0.676   \n",
              "4  MAC000131  2011-12-19         0.1910     0.325979       0.788   \n",
              "\n",
              "   energy_count  energy_std  energy_sum  energy_min  \n",
              "0            22    0.239146       9.505       0.072  \n",
              "1            48    0.281471      14.216       0.031  \n",
              "2            48    0.188405       9.111       0.064  \n",
              "3            48    0.202919      10.511       0.065  \n",
              "4            48    0.259205      15.647       0.066  "
            ]
          },
          "execution_count": 141,
          "metadata": {},
          "output_type": "execute_result"
        }
      ],
      "source": [
        "londonData.head()"
      ]
    },
    {
      "cell_type": "code",
      "execution_count": 142,
      "metadata": {},
      "outputs": [
        {
          "data": {
            "text/html": [
              "<div>\n",
              "<style scoped>\n",
              "    .dataframe tbody tr th:only-of-type {\n",
              "        vertical-align: middle;\n",
              "    }\n",
              "\n",
              "    .dataframe tbody tr th {\n",
              "        vertical-align: top;\n",
              "    }\n",
              "\n",
              "    .dataframe thead th {\n",
              "        text-align: right;\n",
              "    }\n",
              "</style>\n",
              "<table border=\"1\" class=\"dataframe\">\n",
              "  <thead>\n",
              "    <tr style=\"text-align: right;\">\n",
              "      <th></th>\n",
              "      <th>LCLid</th>\n",
              "      <th>day</th>\n",
              "      <th>energy_median</th>\n",
              "      <th>energy_mean</th>\n",
              "      <th>energy_max</th>\n",
              "      <th>energy_count</th>\n",
              "      <th>energy_std</th>\n",
              "      <th>energy_sum</th>\n",
              "      <th>energy_min</th>\n",
              "    </tr>\n",
              "  </thead>\n",
              "  <tbody>\n",
              "    <tr>\n",
              "      <th>3510428</th>\n",
              "      <td>MAC004977</td>\n",
              "      <td>2014-02-24</td>\n",
              "      <td>0.0950</td>\n",
              "      <td>0.118458</td>\n",
              "      <td>0.580</td>\n",
              "      <td>48</td>\n",
              "      <td>0.093814</td>\n",
              "      <td>5.686</td>\n",
              "      <td>0.052</td>\n",
              "    </tr>\n",
              "    <tr>\n",
              "      <th>3510429</th>\n",
              "      <td>MAC004977</td>\n",
              "      <td>2014-02-25</td>\n",
              "      <td>0.0675</td>\n",
              "      <td>0.084208</td>\n",
              "      <td>0.176</td>\n",
              "      <td>48</td>\n",
              "      <td>0.037107</td>\n",
              "      <td>4.042</td>\n",
              "      <td>0.046</td>\n",
              "    </tr>\n",
              "    <tr>\n",
              "      <th>3510430</th>\n",
              "      <td>MAC004977</td>\n",
              "      <td>2014-02-26</td>\n",
              "      <td>0.1080</td>\n",
              "      <td>0.120500</td>\n",
              "      <td>0.282</td>\n",
              "      <td>48</td>\n",
              "      <td>0.069332</td>\n",
              "      <td>5.784</td>\n",
              "      <td>0.046</td>\n",
              "    </tr>\n",
              "    <tr>\n",
              "      <th>3510431</th>\n",
              "      <td>MAC004977</td>\n",
              "      <td>2014-02-27</td>\n",
              "      <td>0.0720</td>\n",
              "      <td>0.114062</td>\n",
              "      <td>0.431</td>\n",
              "      <td>48</td>\n",
              "      <td>0.094482</td>\n",
              "      <td>5.475</td>\n",
              "      <td>0.047</td>\n",
              "    </tr>\n",
              "    <tr>\n",
              "      <th>3510432</th>\n",
              "      <td>MAC004977</td>\n",
              "      <td>2014-02-28</td>\n",
              "      <td>0.0970</td>\n",
              "      <td>0.097000</td>\n",
              "      <td>0.097</td>\n",
              "      <td>1</td>\n",
              "      <td>NaN</td>\n",
              "      <td>0.097</td>\n",
              "      <td>0.097</td>\n",
              "    </tr>\n",
              "  </tbody>\n",
              "</table>\n",
              "</div>"
            ],
            "text/plain": [
              "             LCLid         day  energy_median  energy_mean  energy_max  \\\n",
              "3510428  MAC004977  2014-02-24         0.0950     0.118458       0.580   \n",
              "3510429  MAC004977  2014-02-25         0.0675     0.084208       0.176   \n",
              "3510430  MAC004977  2014-02-26         0.1080     0.120500       0.282   \n",
              "3510431  MAC004977  2014-02-27         0.0720     0.114062       0.431   \n",
              "3510432  MAC004977  2014-02-28         0.0970     0.097000       0.097   \n",
              "\n",
              "         energy_count  energy_std  energy_sum  energy_min  \n",
              "3510428            48    0.093814       5.686       0.052  \n",
              "3510429            48    0.037107       4.042       0.046  \n",
              "3510430            48    0.069332       5.784       0.046  \n",
              "3510431            48    0.094482       5.475       0.047  \n",
              "3510432             1         NaN       0.097       0.097  "
            ]
          },
          "execution_count": 142,
          "metadata": {},
          "output_type": "execute_result"
        }
      ],
      "source": [
        "londonData.tail() "
      ]
    },
    {
      "cell_type": "code",
      "execution_count": 143,
      "metadata": {},
      "outputs": [
        {
          "name": "stdout",
          "output_type": "stream",
          "text": [
            "<class 'pandas.core.frame.DataFrame'>\n",
            "RangeIndex: 3510433 entries, 0 to 3510432\n",
            "Data columns (total 9 columns):\n",
            " #   Column         Dtype  \n",
            "---  ------         -----  \n",
            " 0   LCLid          object \n",
            " 1   day            object \n",
            " 2   energy_median  float64\n",
            " 3   energy_mean    float64\n",
            " 4   energy_max     float64\n",
            " 5   energy_count   int64  \n",
            " 6   energy_std     float64\n",
            " 7   energy_sum     float64\n",
            " 8   energy_min     float64\n",
            "dtypes: float64(6), int64(1), object(2)\n",
            "memory usage: 241.0+ MB\n"
          ]
        }
      ],
      "source": [
        "londonData.info()"
      ]
    },
    {
      "cell_type": "code",
      "execution_count": 144,
      "metadata": {},
      "outputs": [
        {
          "data": {
            "text/html": [
              "<div>\n",
              "<style scoped>\n",
              "    .dataframe tbody tr th:only-of-type {\n",
              "        vertical-align: middle;\n",
              "    }\n",
              "\n",
              "    .dataframe tbody tr th {\n",
              "        vertical-align: top;\n",
              "    }\n",
              "\n",
              "    .dataframe thead th {\n",
              "        text-align: right;\n",
              "    }\n",
              "</style>\n",
              "<table border=\"1\" class=\"dataframe\">\n",
              "  <thead>\n",
              "    <tr style=\"text-align: right;\">\n",
              "      <th></th>\n",
              "      <th>energy_median</th>\n",
              "      <th>energy_mean</th>\n",
              "      <th>energy_max</th>\n",
              "      <th>energy_count</th>\n",
              "      <th>energy_std</th>\n",
              "      <th>energy_sum</th>\n",
              "      <th>energy_min</th>\n",
              "    </tr>\n",
              "  </thead>\n",
              "  <tbody>\n",
              "    <tr>\n",
              "      <th>count</th>\n",
              "      <td>3.510403e+06</td>\n",
              "      <td>3.510403e+06</td>\n",
              "      <td>3.510403e+06</td>\n",
              "      <td>3.510433e+06</td>\n",
              "      <td>3.499102e+06</td>\n",
              "      <td>3.510403e+06</td>\n",
              "      <td>3.510403e+06</td>\n",
              "    </tr>\n",
              "    <tr>\n",
              "      <th>mean</th>\n",
              "      <td>1.587395e-01</td>\n",
              "      <td>2.117305e-01</td>\n",
              "      <td>8.345210e-01</td>\n",
              "      <td>4.780364e+01</td>\n",
              "      <td>1.726673e-01</td>\n",
              "      <td>1.012414e+01</td>\n",
              "      <td>5.962578e-02</td>\n",
              "    </tr>\n",
              "    <tr>\n",
              "      <th>std</th>\n",
              "      <td>1.701865e-01</td>\n",
              "      <td>1.908460e-01</td>\n",
              "      <td>6.683156e-01</td>\n",
              "      <td>2.810982e+00</td>\n",
              "      <td>1.531208e-01</td>\n",
              "      <td>9.128793e+00</td>\n",
              "      <td>8.701312e-02</td>\n",
              "    </tr>\n",
              "    <tr>\n",
              "      <th>min</th>\n",
              "      <td>0.000000e+00</td>\n",
              "      <td>0.000000e+00</td>\n",
              "      <td>0.000000e+00</td>\n",
              "      <td>0.000000e+00</td>\n",
              "      <td>0.000000e+00</td>\n",
              "      <td>0.000000e+00</td>\n",
              "      <td>0.000000e+00</td>\n",
              "    </tr>\n",
              "    <tr>\n",
              "      <th>25%</th>\n",
              "      <td>6.700000e-02</td>\n",
              "      <td>9.808333e-02</td>\n",
              "      <td>3.460000e-01</td>\n",
              "      <td>4.800000e+01</td>\n",
              "      <td>6.911626e-02</td>\n",
              "      <td>4.682000e+00</td>\n",
              "      <td>2.000000e-02</td>\n",
              "    </tr>\n",
              "    <tr>\n",
              "      <th>50%</th>\n",
              "      <td>1.145000e-01</td>\n",
              "      <td>1.632917e-01</td>\n",
              "      <td>6.880000e-01</td>\n",
              "      <td>4.800000e+01</td>\n",
              "      <td>1.327910e-01</td>\n",
              "      <td>7.815000e+00</td>\n",
              "      <td>3.900000e-02</td>\n",
              "    </tr>\n",
              "    <tr>\n",
              "      <th>75%</th>\n",
              "      <td>1.910000e-01</td>\n",
              "      <td>2.624583e-01</td>\n",
              "      <td>1.128000e+00</td>\n",
              "      <td>4.800000e+01</td>\n",
              "      <td>2.293124e-01</td>\n",
              "      <td>1.256900e+01</td>\n",
              "      <td>7.100000e-02</td>\n",
              "    </tr>\n",
              "    <tr>\n",
              "      <th>max</th>\n",
              "      <td>6.970500e+00</td>\n",
              "      <td>6.928250e+00</td>\n",
              "      <td>1.076100e+01</td>\n",
              "      <td>4.800000e+01</td>\n",
              "      <td>4.024569e+00</td>\n",
              "      <td>3.325560e+02</td>\n",
              "      <td>6.524000e+00</td>\n",
              "    </tr>\n",
              "  </tbody>\n",
              "</table>\n",
              "</div>"
            ],
            "text/plain": [
              "       energy_median   energy_mean    energy_max  energy_count    energy_std  \\\n",
              "count   3.510403e+06  3.510403e+06  3.510403e+06  3.510433e+06  3.499102e+06   \n",
              "mean    1.587395e-01  2.117305e-01  8.345210e-01  4.780364e+01  1.726673e-01   \n",
              "std     1.701865e-01  1.908460e-01  6.683156e-01  2.810982e+00  1.531208e-01   \n",
              "min     0.000000e+00  0.000000e+00  0.000000e+00  0.000000e+00  0.000000e+00   \n",
              "25%     6.700000e-02  9.808333e-02  3.460000e-01  4.800000e+01  6.911626e-02   \n",
              "50%     1.145000e-01  1.632917e-01  6.880000e-01  4.800000e+01  1.327910e-01   \n",
              "75%     1.910000e-01  2.624583e-01  1.128000e+00  4.800000e+01  2.293124e-01   \n",
              "max     6.970500e+00  6.928250e+00  1.076100e+01  4.800000e+01  4.024569e+00   \n",
              "\n",
              "         energy_sum    energy_min  \n",
              "count  3.510403e+06  3.510403e+06  \n",
              "mean   1.012414e+01  5.962578e-02  \n",
              "std    9.128793e+00  8.701312e-02  \n",
              "min    0.000000e+00  0.000000e+00  \n",
              "25%    4.682000e+00  2.000000e-02  \n",
              "50%    7.815000e+00  3.900000e-02  \n",
              "75%    1.256900e+01  7.100000e-02  \n",
              "max    3.325560e+02  6.524000e+00  "
            ]
          },
          "execution_count": 144,
          "metadata": {},
          "output_type": "execute_result"
        }
      ],
      "source": [
        "# Zero is the minimum for all\n",
        "londonData.describe()"
      ]
    },
    {
      "cell_type": "code",
      "execution_count": 145,
      "metadata": {},
      "outputs": [
        {
          "data": {
            "text/plain": [
              "(5566, 8)"
            ]
          },
          "execution_count": 145,
          "metadata": {},
          "output_type": "execute_result"
        }
      ],
      "source": [
        "# There are 5566 distinct LCLids\n",
        "customerIDs = londonData.groupby(\"LCLid\").count()\n",
        "customerIDs.shape\n"
      ]
    },
    {
      "cell_type": "code",
      "execution_count": 146,
      "metadata": {},
      "outputs": [
        {
          "data": {
            "text/html": [
              "<div>\n",
              "<style scoped>\n",
              "    .dataframe tbody tr th:only-of-type {\n",
              "        vertical-align: middle;\n",
              "    }\n",
              "\n",
              "    .dataframe tbody tr th {\n",
              "        vertical-align: top;\n",
              "    }\n",
              "\n",
              "    .dataframe thead th {\n",
              "        text-align: right;\n",
              "    }\n",
              "</style>\n",
              "<table border=\"1\" class=\"dataframe\">\n",
              "  <thead>\n",
              "    <tr style=\"text-align: right;\">\n",
              "      <th></th>\n",
              "      <th>day</th>\n",
              "      <th>energy_median</th>\n",
              "      <th>energy_mean</th>\n",
              "      <th>energy_max</th>\n",
              "      <th>energy_count</th>\n",
              "      <th>energy_std</th>\n",
              "      <th>energy_sum</th>\n",
              "      <th>energy_min</th>\n",
              "    </tr>\n",
              "    <tr>\n",
              "      <th>LCLid</th>\n",
              "      <th></th>\n",
              "      <th></th>\n",
              "      <th></th>\n",
              "      <th></th>\n",
              "      <th></th>\n",
              "      <th></th>\n",
              "      <th></th>\n",
              "      <th></th>\n",
              "    </tr>\n",
              "  </thead>\n",
              "  <tbody>\n",
              "    <tr>\n",
              "      <th>MAC000002</th>\n",
              "      <td>505</td>\n",
              "      <td>505</td>\n",
              "      <td>505</td>\n",
              "      <td>505</td>\n",
              "      <td>505</td>\n",
              "      <td>503</td>\n",
              "      <td>505</td>\n",
              "      <td>505</td>\n",
              "    </tr>\n",
              "    <tr>\n",
              "      <th>MAC000003</th>\n",
              "      <td>740</td>\n",
              "      <td>740</td>\n",
              "      <td>740</td>\n",
              "      <td>740</td>\n",
              "      <td>740</td>\n",
              "      <td>739</td>\n",
              "      <td>740</td>\n",
              "      <td>740</td>\n",
              "    </tr>\n",
              "    <tr>\n",
              "      <th>MAC000004</th>\n",
              "      <td>662</td>\n",
              "      <td>662</td>\n",
              "      <td>662</td>\n",
              "      <td>662</td>\n",
              "      <td>662</td>\n",
              "      <td>660</td>\n",
              "      <td>662</td>\n",
              "      <td>662</td>\n",
              "    </tr>\n",
              "    <tr>\n",
              "      <th>MAC000005</th>\n",
              "      <td>638</td>\n",
              "      <td>638</td>\n",
              "      <td>638</td>\n",
              "      <td>638</td>\n",
              "      <td>638</td>\n",
              "      <td>636</td>\n",
              "      <td>638</td>\n",
              "      <td>638</td>\n",
              "    </tr>\n",
              "    <tr>\n",
              "      <th>MAC000006</th>\n",
              "      <td>761</td>\n",
              "      <td>761</td>\n",
              "      <td>761</td>\n",
              "      <td>761</td>\n",
              "      <td>761</td>\n",
              "      <td>760</td>\n",
              "      <td>761</td>\n",
              "      <td>761</td>\n",
              "    </tr>\n",
              "  </tbody>\n",
              "</table>\n",
              "</div>"
            ],
            "text/plain": [
              "           day  energy_median  energy_mean  energy_max  energy_count  \\\n",
              "LCLid                                                                  \n",
              "MAC000002  505            505          505         505           505   \n",
              "MAC000003  740            740          740         740           740   \n",
              "MAC000004  662            662          662         662           662   \n",
              "MAC000005  638            638          638         638           638   \n",
              "MAC000006  761            761          761         761           761   \n",
              "\n",
              "           energy_std  energy_sum  energy_min  \n",
              "LCLid                                          \n",
              "MAC000002         503         505         505  \n",
              "MAC000003         739         740         740  \n",
              "MAC000004         660         662         662  \n",
              "MAC000005         636         638         638  \n",
              "MAC000006         760         761         761  "
            ]
          },
          "execution_count": 146,
          "metadata": {},
          "output_type": "execute_result"
        }
      ],
      "source": [
        "customerIDs.head()"
      ]
    },
    {
      "cell_type": "code",
      "execution_count": 147,
      "metadata": {},
      "outputs": [
        {
          "data": {
            "text/plain": [
              "count    5566.000000\n",
              "mean      630.692239\n",
              "std       111.945099\n",
              "min         1.000000\n",
              "25%       600.000000\n",
              "50%       651.000000\n",
              "75%       684.000000\n",
              "max       829.000000\n",
              "Name: day, dtype: float64"
            ]
          },
          "execution_count": 147,
          "metadata": {},
          "output_type": "execute_result"
        }
      ],
      "source": [
        "# Looking at min, it appears that there are LCLids that only have line of information!\n",
        "customerIDs.describe()[\"day\"]"
      ]
    },
    {
      "cell_type": "markdown",
      "metadata": {},
      "source": [
        "## Power Outage Days"
      ]
    },
    {
      "cell_type": "code",
      "execution_count": 148,
      "metadata": {},
      "outputs": [
        {
          "data": {
            "text/plain": [
              "(15138, 9)"
            ]
          },
          "execution_count": 148,
          "metadata": {},
          "output_type": "execute_result"
        }
      ],
      "source": [
        "# There are possibly 15,138 power outages, where max energy was 0 for the day\n",
        "zeroPower = londonData[londonData['energy_max'] == 0]\n",
        "zeroPower.shape"
      ]
    },
    {
      "cell_type": "code",
      "execution_count": 149,
      "metadata": {},
      "outputs": [
        {
          "data": {
            "text/html": [
              "<div>\n",
              "<style scoped>\n",
              "    .dataframe tbody tr th:only-of-type {\n",
              "        vertical-align: middle;\n",
              "    }\n",
              "\n",
              "    .dataframe tbody tr th {\n",
              "        vertical-align: top;\n",
              "    }\n",
              "\n",
              "    .dataframe thead th {\n",
              "        text-align: right;\n",
              "    }\n",
              "</style>\n",
              "<table border=\"1\" class=\"dataframe\">\n",
              "  <thead>\n",
              "    <tr style=\"text-align: right;\">\n",
              "      <th></th>\n",
              "      <th>LCLid</th>\n",
              "      <th>day</th>\n",
              "      <th>energy_median</th>\n",
              "      <th>energy_mean</th>\n",
              "      <th>energy_max</th>\n",
              "      <th>energy_count</th>\n",
              "      <th>energy_std</th>\n",
              "      <th>energy_sum</th>\n",
              "      <th>energy_min</th>\n",
              "    </tr>\n",
              "  </thead>\n",
              "  <tbody>\n",
              "    <tr>\n",
              "      <th>12271</th>\n",
              "      <td>MAC004560</td>\n",
              "      <td>2013-04-02</td>\n",
              "      <td>0.0</td>\n",
              "      <td>0.0</td>\n",
              "      <td>0.0</td>\n",
              "      <td>48</td>\n",
              "      <td>0.0</td>\n",
              "      <td>0.0</td>\n",
              "      <td>0.0</td>\n",
              "    </tr>\n",
              "    <tr>\n",
              "      <th>12272</th>\n",
              "      <td>MAC004560</td>\n",
              "      <td>2013-04-03</td>\n",
              "      <td>0.0</td>\n",
              "      <td>0.0</td>\n",
              "      <td>0.0</td>\n",
              "      <td>48</td>\n",
              "      <td>0.0</td>\n",
              "      <td>0.0</td>\n",
              "      <td>0.0</td>\n",
              "    </tr>\n",
              "    <tr>\n",
              "      <th>12273</th>\n",
              "      <td>MAC004560</td>\n",
              "      <td>2013-04-04</td>\n",
              "      <td>0.0</td>\n",
              "      <td>0.0</td>\n",
              "      <td>0.0</td>\n",
              "      <td>48</td>\n",
              "      <td>0.0</td>\n",
              "      <td>0.0</td>\n",
              "      <td>0.0</td>\n",
              "    </tr>\n",
              "    <tr>\n",
              "      <th>12274</th>\n",
              "      <td>MAC004560</td>\n",
              "      <td>2013-04-05</td>\n",
              "      <td>0.0</td>\n",
              "      <td>0.0</td>\n",
              "      <td>0.0</td>\n",
              "      <td>1</td>\n",
              "      <td>NaN</td>\n",
              "      <td>0.0</td>\n",
              "      <td>0.0</td>\n",
              "    </tr>\n",
              "    <tr>\n",
              "      <th>41810</th>\n",
              "      <td>MAC001340</td>\n",
              "      <td>2013-11-15</td>\n",
              "      <td>0.0</td>\n",
              "      <td>0.0</td>\n",
              "      <td>0.0</td>\n",
              "      <td>48</td>\n",
              "      <td>0.0</td>\n",
              "      <td>0.0</td>\n",
              "      <td>0.0</td>\n",
              "    </tr>\n",
              "  </tbody>\n",
              "</table>\n",
              "</div>"
            ],
            "text/plain": [
              "           LCLid         day  energy_median  energy_mean  energy_max  \\\n",
              "12271  MAC004560  2013-04-02            0.0          0.0         0.0   \n",
              "12272  MAC004560  2013-04-03            0.0          0.0         0.0   \n",
              "12273  MAC004560  2013-04-04            0.0          0.0         0.0   \n",
              "12274  MAC004560  2013-04-05            0.0          0.0         0.0   \n",
              "41810  MAC001340  2013-11-15            0.0          0.0         0.0   \n",
              "\n",
              "       energy_count  energy_std  energy_sum  energy_min  \n",
              "12271            48         0.0         0.0         0.0  \n",
              "12272            48         0.0         0.0         0.0  \n",
              "12273            48         0.0         0.0         0.0  \n",
              "12274             1         NaN         0.0         0.0  \n",
              "41810            48         0.0         0.0         0.0  "
            ]
          },
          "execution_count": 149,
          "metadata": {},
          "output_type": "execute_result"
        }
      ],
      "source": [
        "# I wonder what energy_count is????\n",
        "zeroPower.head()"
      ]
    },
    {
      "cell_type": "code",
      "execution_count": 150,
      "metadata": {},
      "outputs": [],
      "source": [
        "zeroPower.to_csv(\"PowerOutages.csv\")"
      ]
    },
    {
      "cell_type": "code",
      "execution_count": 151,
      "metadata": {},
      "outputs": [
        {
          "data": {
            "text/plain": [
              "(819, 8)"
            ]
          },
          "execution_count": 151,
          "metadata": {},
          "output_type": "execute_result"
        }
      ],
      "source": [
        "# There are possibly 819 days where the power was out for at least one location\n",
        "zeroPowerDays = zeroPower.groupby(\"day\").count()\n",
        "zeroPowerDays.shape"
      ]
    },
    {
      "cell_type": "code",
      "execution_count": 152,
      "metadata": {},
      "outputs": [
        {
          "data": {
            "text/plain": [
              "(281, 8)"
            ]
          },
          "execution_count": 152,
          "metadata": {},
          "output_type": "execute_result"
        }
      ],
      "source": [
        "# There are possibly 281 customers affected by a power outage\n",
        "zeroPowerIDs = zeroPower.groupby(\"LCLid\").count()\n",
        "zeroPowerIDs.shape"
      ]
    },
    {
      "cell_type": "markdown",
      "metadata": {},
      "source": [
        "## Customer Information"
      ]
    },
    {
      "cell_type": "code",
      "execution_count": 153,
      "metadata": {},
      "outputs": [],
      "source": [
        "# Use Pandas to load the data into a dataframe\n",
        "path = \"data/archive/\"\n",
        "house = pd.read_csv(path + 'informations_households.csv')"
      ]
    },
    {
      "cell_type": "code",
      "execution_count": 154,
      "metadata": {},
      "outputs": [
        {
          "data": {
            "text/html": [
              "<div>\n",
              "<style scoped>\n",
              "    .dataframe tbody tr th:only-of-type {\n",
              "        vertical-align: middle;\n",
              "    }\n",
              "\n",
              "    .dataframe tbody tr th {\n",
              "        vertical-align: top;\n",
              "    }\n",
              "\n",
              "    .dataframe thead th {\n",
              "        text-align: right;\n",
              "    }\n",
              "</style>\n",
              "<table border=\"1\" class=\"dataframe\">\n",
              "  <thead>\n",
              "    <tr style=\"text-align: right;\">\n",
              "      <th></th>\n",
              "      <th>LCLid</th>\n",
              "      <th>stdorToU</th>\n",
              "      <th>Acorn</th>\n",
              "      <th>Acorn_grouped</th>\n",
              "      <th>file</th>\n",
              "    </tr>\n",
              "  </thead>\n",
              "  <tbody>\n",
              "    <tr>\n",
              "      <th>4394</th>\n",
              "      <td>MAC001340</td>\n",
              "      <td>Std</td>\n",
              "      <td>ACORN-N</td>\n",
              "      <td>Adversity</td>\n",
              "      <td>block_87</td>\n",
              "    </tr>\n",
              "  </tbody>\n",
              "</table>\n",
              "</div>"
            ],
            "text/plain": [
              "          LCLid stdorToU    Acorn Acorn_grouped      file\n",
              "4394  MAC001340      Std  ACORN-N     Adversity  block_87"
            ]
          },
          "execution_count": 154,
          "metadata": {},
          "output_type": "execute_result"
        }
      ],
      "source": [
        "# Looking at that house that was dead for a long time\n",
        "house[house[\"LCLid\"] == \"MAC001340\"]"
      ]
    },
    {
      "cell_type": "code",
      "execution_count": 155,
      "metadata": {},
      "outputs": [],
      "source": [
        "# Use Pandas to load the data into a dataframe\n",
        "#path = \"data/archive/\"\n",
        "#acorn = pd.read_csv(path + 'acorn_details.csv', encoding=\"utf-16\")"
      ]
    },
    {
      "cell_type": "markdown",
      "metadata": {},
      "source": [
        "## Check the Min/Max/Avg -- 1/2 Hourly"
      ]
    },
    {
      "cell_type": "code",
      "execution_count": 156,
      "metadata": {},
      "outputs": [
        {
          "data": {
            "text/html": [
              "<div>\n",
              "<style scoped>\n",
              "    .dataframe tbody tr th:only-of-type {\n",
              "        vertical-align: middle;\n",
              "    }\n",
              "\n",
              "    .dataframe tbody tr th {\n",
              "        vertical-align: top;\n",
              "    }\n",
              "\n",
              "    .dataframe thead th {\n",
              "        text-align: right;\n",
              "    }\n",
              "</style>\n",
              "<table border=\"1\" class=\"dataframe\">\n",
              "  <thead>\n",
              "    <tr style=\"text-align: right;\">\n",
              "      <th></th>\n",
              "      <th>LCLid</th>\n",
              "      <th>tstp</th>\n",
              "      <th>energy(kWh/hh)</th>\n",
              "    </tr>\n",
              "  </thead>\n",
              "  <tbody>\n",
              "    <tr>\n",
              "      <th>0</th>\n",
              "      <td>MAC000002</td>\n",
              "      <td>2012-10-12 00:30:00.0000000</td>\n",
              "      <td>0</td>\n",
              "    </tr>\n",
              "    <tr>\n",
              "      <th>1</th>\n",
              "      <td>MAC000002</td>\n",
              "      <td>2012-10-12 01:00:00.0000000</td>\n",
              "      <td>0</td>\n",
              "    </tr>\n",
              "    <tr>\n",
              "      <th>2</th>\n",
              "      <td>MAC000002</td>\n",
              "      <td>2012-10-12 01:30:00.0000000</td>\n",
              "      <td>0</td>\n",
              "    </tr>\n",
              "    <tr>\n",
              "      <th>3</th>\n",
              "      <td>MAC000002</td>\n",
              "      <td>2012-10-12 02:00:00.0000000</td>\n",
              "      <td>0</td>\n",
              "    </tr>\n",
              "    <tr>\n",
              "      <th>4</th>\n",
              "      <td>MAC000002</td>\n",
              "      <td>2012-10-12 02:30:00.0000000</td>\n",
              "      <td>0</td>\n",
              "    </tr>\n",
              "  </tbody>\n",
              "</table>\n",
              "</div>"
            ],
            "text/plain": [
              "       LCLid                         tstp energy(kWh/hh)\n",
              "0  MAC000002  2012-10-12 00:30:00.0000000             0 \n",
              "1  MAC000002  2012-10-12 01:00:00.0000000             0 \n",
              "2  MAC000002  2012-10-12 01:30:00.0000000             0 \n",
              "3  MAC000002  2012-10-12 02:00:00.0000000             0 \n",
              "4  MAC000002  2012-10-12 02:30:00.0000000             0 "
            ]
          },
          "execution_count": 156,
          "metadata": {},
          "output_type": "execute_result"
        }
      ],
      "source": [
        "block1.head()"
      ]
    },
    {
      "cell_type": "code",
      "execution_count": 157,
      "metadata": {},
      "outputs": [
        {
          "data": {
            "text/html": [
              "<div>\n",
              "<style scoped>\n",
              "    .dataframe tbody tr th:only-of-type {\n",
              "        vertical-align: middle;\n",
              "    }\n",
              "\n",
              "    .dataframe tbody tr th {\n",
              "        vertical-align: top;\n",
              "    }\n",
              "\n",
              "    .dataframe thead th {\n",
              "        text-align: right;\n",
              "    }\n",
              "</style>\n",
              "<table border=\"1\" class=\"dataframe\">\n",
              "  <thead>\n",
              "    <tr style=\"text-align: right;\">\n",
              "      <th></th>\n",
              "      <th>LCLid</th>\n",
              "      <th>tstp</th>\n",
              "      <th>energy(kWh/hh)</th>\n",
              "    </tr>\n",
              "  </thead>\n",
              "  <tbody>\n",
              "    <tr>\n",
              "      <th>1222665</th>\n",
              "      <td>MAC005492</td>\n",
              "      <td>2014-02-27 22:00:00.0000000</td>\n",
              "      <td>0.182</td>\n",
              "    </tr>\n",
              "    <tr>\n",
              "      <th>1222666</th>\n",
              "      <td>MAC005492</td>\n",
              "      <td>2014-02-27 22:30:00.0000000</td>\n",
              "      <td>0.122</td>\n",
              "    </tr>\n",
              "    <tr>\n",
              "      <th>1222667</th>\n",
              "      <td>MAC005492</td>\n",
              "      <td>2014-02-27 23:00:00.0000000</td>\n",
              "      <td>0.14</td>\n",
              "    </tr>\n",
              "    <tr>\n",
              "      <th>1222668</th>\n",
              "      <td>MAC005492</td>\n",
              "      <td>2014-02-27 23:30:00.0000000</td>\n",
              "      <td>0.192</td>\n",
              "    </tr>\n",
              "    <tr>\n",
              "      <th>1222669</th>\n",
              "      <td>MAC005492</td>\n",
              "      <td>2014-02-28 00:00:00.0000000</td>\n",
              "      <td>0.088</td>\n",
              "    </tr>\n",
              "  </tbody>\n",
              "</table>\n",
              "</div>"
            ],
            "text/plain": [
              "             LCLid                         tstp energy(kWh/hh)\n",
              "1222665  MAC005492  2014-02-27 22:00:00.0000000         0.182 \n",
              "1222666  MAC005492  2014-02-27 22:30:00.0000000         0.122 \n",
              "1222667  MAC005492  2014-02-27 23:00:00.0000000          0.14 \n",
              "1222668  MAC005492  2014-02-27 23:30:00.0000000         0.192 \n",
              "1222669  MAC005492  2014-02-28 00:00:00.0000000         0.088 "
            ]
          },
          "execution_count": 157,
          "metadata": {},
          "output_type": "execute_result"
        }
      ],
      "source": [
        "block1.tail()"
      ]
    },
    {
      "cell_type": "code",
      "execution_count": 158,
      "metadata": {},
      "outputs": [
        {
          "data": {
            "text/html": [
              "<div>\n",
              "<style scoped>\n",
              "    .dataframe tbody tr th:only-of-type {\n",
              "        vertical-align: middle;\n",
              "    }\n",
              "\n",
              "    .dataframe tbody tr th {\n",
              "        vertical-align: top;\n",
              "    }\n",
              "\n",
              "    .dataframe thead th {\n",
              "        text-align: right;\n",
              "    }\n",
              "</style>\n",
              "<table border=\"1\" class=\"dataframe\">\n",
              "  <thead>\n",
              "    <tr style=\"text-align: right;\">\n",
              "      <th></th>\n",
              "      <th>LCLid</th>\n",
              "      <th>tstp</th>\n",
              "      <th>energy(kWh/hh)</th>\n",
              "    </tr>\n",
              "  </thead>\n",
              "  <tbody>\n",
              "    <tr>\n",
              "      <th>count</th>\n",
              "      <td>1222670</td>\n",
              "      <td>1222670</td>\n",
              "      <td>1222670</td>\n",
              "    </tr>\n",
              "    <tr>\n",
              "      <th>unique</th>\n",
              "      <td>50</td>\n",
              "      <td>39292</td>\n",
              "      <td>5022</td>\n",
              "    </tr>\n",
              "    <tr>\n",
              "      <th>top</th>\n",
              "      <td>MAC000246</td>\n",
              "      <td>2012-12-16 00:00:00.0000000</td>\n",
              "      <td>0.013</td>\n",
              "    </tr>\n",
              "    <tr>\n",
              "      <th>freq</th>\n",
              "      <td>39245</td>\n",
              "      <td>50</td>\n",
              "      <td>6238</td>\n",
              "    </tr>\n",
              "  </tbody>\n",
              "</table>\n",
              "</div>"
            ],
            "text/plain": [
              "            LCLid                         tstp energy(kWh/hh)\n",
              "count     1222670                      1222670        1222670\n",
              "unique         50                        39292           5022\n",
              "top     MAC000246  2012-12-16 00:00:00.0000000         0.013 \n",
              "freq        39245                           50           6238"
            ]
          },
          "execution_count": 158,
          "metadata": {},
          "output_type": "execute_result"
        }
      ],
      "source": [
        "block1.describe()"
      ]
    },
    {
      "cell_type": "code",
      "execution_count": 159,
      "metadata": {},
      "outputs": [
        {
          "data": {
            "text/plain": [
              "(50, 2)"
            ]
          },
          "execution_count": 159,
          "metadata": {},
          "output_type": "execute_result"
        }
      ],
      "source": [
        "# The halfhourly block files only show around 50 locations, due to the granularity of half hour\n",
        "hourlycustomerIDs = block1.groupby(\"LCLid\").count()\n",
        "hourlycustomerIDs.shape"
      ]
    },
    {
      "cell_type": "markdown",
      "metadata": {
        "id": "MeOO_tCzu59Z"
      },
      "source": [
        "## Check for Imbalanced Data"
      ]
    },
    {
      "cell_type": "code",
      "execution_count": null,
      "metadata": {
        "id": "7uVuUwu_wels"
      },
      "outputs": [],
      "source": []
    },
    {
      "cell_type": "markdown",
      "metadata": {
        "id": "bHuGfumEvkua"
      },
      "source": [
        "# STEP 2: FEATURE ENGINEERING / DATA CLEANING / PRE-PROCESSING TECHNIQUES"
      ]
    },
    {
      "cell_type": "markdown",
      "metadata": {
        "id": "d0S1rGcDvSl5"
      },
      "source": [
        "## Label your target variable"
      ]
    },
    {
      "cell_type": "code",
      "execution_count": 160,
      "metadata": {
        "id": "MYS-_zVcwd_r"
      },
      "outputs": [],
      "source": [
        "# Ex) Change \"yes\" or \"no\" to 1 or 0 so the model understands the label"
      ]
    },
    {
      "cell_type": "code",
      "execution_count": null,
      "metadata": {
        "id": "-Mr2SBa4wdEo"
      },
      "outputs": [],
      "source": []
    },
    {
      "cell_type": "markdown",
      "metadata": {
        "id": "EPW13lhkwlS6"
      },
      "source": [
        "## Fix the data imbalance and other problems from STEP 1"
      ]
    },
    {
      "cell_type": "code",
      "execution_count": null,
      "metadata": {
        "id": "y2sciOk5yIA5"
      },
      "outputs": [],
      "source": []
    },
    {
      "cell_type": "markdown",
      "metadata": {
        "id": "cNaZexBKwrWx"
      },
      "source": [
        "## Seperate features (x) from labels (y)"
      ]
    },
    {
      "cell_type": "code",
      "execution_count": null,
      "metadata": {
        "id": "1mhjJgSGyHUB"
      },
      "outputs": [],
      "source": []
    },
    {
      "cell_type": "markdown",
      "metadata": {
        "id": "ijBd2InWw2BN"
      },
      "source": [
        "## Feature Reduction"
      ]
    },
    {
      "cell_type": "code",
      "execution_count": null,
      "metadata": {
        "id": "b__jQ5YJyE_G"
      },
      "outputs": [],
      "source": []
    },
    {
      "cell_type": "markdown",
      "metadata": {
        "id": "gBO67tBlw8Ss"
      },
      "source": [
        "## Normalize / Scale the Data"
      ]
    },
    {
      "cell_type": "code",
      "execution_count": null,
      "metadata": {
        "id": "g0NQS2PLyEeH"
      },
      "outputs": [],
      "source": []
    },
    {
      "cell_type": "markdown",
      "metadata": {
        "id": "Lq06YLwyxBor"
      },
      "source": [
        "## Investigate Variance or Feature Importance"
      ]
    },
    {
      "cell_type": "code",
      "execution_count": null,
      "metadata": {
        "id": "RX9AJBYQyD3l"
      },
      "outputs": [],
      "source": []
    },
    {
      "cell_type": "markdown",
      "metadata": {
        "id": "gq8yldaFxbq-"
      },
      "source": [
        "# STEP 3: MODEL TRAINING & BUILDING\n"
      ]
    },
    {
      "cell_type": "code",
      "execution_count": null,
      "metadata": {
        "id": "khN89Pe7xiN4"
      },
      "outputs": [],
      "source": []
    },
    {
      "cell_type": "markdown",
      "metadata": {
        "id": "Hh8N0_yGxi66"
      },
      "source": [
        "## Split into Train and Test data"
      ]
    },
    {
      "cell_type": "code",
      "execution_count": null,
      "metadata": {
        "id": "pAWwUcSEyCk0"
      },
      "outputs": [],
      "source": []
    },
    {
      "cell_type": "markdown",
      "metadata": {
        "id": "iXKSCFoRxumo"
      },
      "source": [
        "## Use a Model"
      ]
    },
    {
      "cell_type": "code",
      "execution_count": null,
      "metadata": {
        "id": "QpDhyjwNyCDm"
      },
      "outputs": [],
      "source": []
    },
    {
      "cell_type": "markdown",
      "metadata": {
        "id": "O4SGGaDWxz9X"
      },
      "source": [
        "## Perform a Hyperparameter Search"
      ]
    },
    {
      "cell_type": "code",
      "execution_count": null,
      "metadata": {
        "id": "qckGo2oRyAML"
      },
      "outputs": [],
      "source": []
    },
    {
      "cell_type": "markdown",
      "metadata": {
        "id": "1bap9XXTynZZ"
      },
      "source": [
        "## Save the best model"
      ]
    },
    {
      "cell_type": "code",
      "execution_count": null,
      "metadata": {
        "id": "85oE97gyyve_"
      },
      "outputs": [],
      "source": []
    },
    {
      "cell_type": "markdown",
      "metadata": {
        "id": "ZCNgUErzyQ54"
      },
      "source": [
        "# STEP 4: EVALUATE THE MODEL"
      ]
    },
    {
      "cell_type": "markdown",
      "metadata": {
        "id": "FwZk0r8ry-Hu"
      },
      "source": [
        "## Look at Metrics - Ex) Precision, Recall, F1 score"
      ]
    },
    {
      "cell_type": "code",
      "execution_count": null,
      "metadata": {
        "id": "PS9-fA9uzNxF"
      },
      "outputs": [],
      "source": []
    },
    {
      "cell_type": "markdown",
      "metadata": {
        "id": "FftWhxZ0ycNr"
      },
      "source": [
        "## Plot a Confusion Matrix"
      ]
    },
    {
      "cell_type": "code",
      "execution_count": null,
      "metadata": {
        "id": "G-A8xydGywLa"
      },
      "outputs": [],
      "source": []
    },
    {
      "cell_type": "markdown",
      "metadata": {
        "id": "jg77bvA51bzL"
      },
      "source": [
        "# STEP 5: DEPLOY MODEL"
      ]
    },
    {
      "cell_type": "code",
      "execution_count": null,
      "metadata": {
        "id": "Xq1wWTmo2Xfl"
      },
      "outputs": [],
      "source": []
    }
  ],
  "metadata": {
    "colab": {
      "authorship_tag": "ABX9TyPS3qGwBFpq6ihHfebWnMek",
      "include_colab_link": true,
      "provenance": [],
      "toc_visible": true
    },
    "kernelspec": {
      "display_name": "Python 3",
      "name": "python3"
    },
    "language_info": {
      "codemirror_mode": {
        "name": "ipython",
        "version": 3
      },
      "file_extension": ".py",
      "mimetype": "text/x-python",
      "name": "python",
      "nbconvert_exporter": "python",
      "pygments_lexer": "ipython3",
      "version": "3.10.9"
    }
  },
  "nbformat": 4,
  "nbformat_minor": 0
}

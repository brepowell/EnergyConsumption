{
  "cells": [
    {
      "cell_type": "markdown",
      "metadata": {
        "colab_type": "text",
        "id": "view-in-github"
      },
      "source": [
        "<a href=\"https://colab.research.google.com/github/brepowell/ML-Contest-Series/blob/main/MLSeriesSupervisedLearningTemplate.ipynb\" target=\"_parent\"><img src=\"https://colab.research.google.com/assets/colab-badge.svg\" alt=\"Open In Colab\"/></a>"
      ]
    },
    {
      "cell_type": "markdown",
      "metadata": {
        "id": "FM6YqhcasT5w"
      },
      "source": [
        "# To run:\n",
        "Use an IDE that will allow you to open a Jupyter Notebook.\n",
        "\n",
        "For example, use Anaconda Navigator to open Visual Studio Code.\n",
        "\n",
        "You may need to select a kernel to run the program."
      ]
    },
    {
      "cell_type": "markdown",
      "metadata": {
        "id": "05Z04BNFs2Li"
      },
      "source": [
        "# DATA GATHERING"
      ]
    },
    {
      "cell_type": "markdown",
      "metadata": {
        "id": "mA7frvLc7vtj"
      },
      "source": [
        "## Import Libraries"
      ]
    },
    {
      "cell_type": "code",
      "execution_count": 6,
      "metadata": {
        "id": "MHcOyHzp7x5l"
      },
      "outputs": [],
      "source": [
        "# This step can be done in any cell of the notebook. It does not have to be at the top.\n",
        "import pandas as pd\n"
      ]
    },
    {
      "cell_type": "markdown",
      "metadata": {},
      "source": [
        "## Data Information"
      ]
    },
    {
      "cell_type": "markdown",
      "metadata": {},
      "source": [
        "From:\n",
        "https://data.london.gov.uk/dataset/smartmeter-energy-use-data-in-london-households\n",
        "\n",
        "More Info:\n",
        "https://innovation.ukpowernetworks.co.uk/projects/low-carbon-london\n",
        "\n",
        "\"Created 9 years ago, updated 2 years ago\n",
        "Energy consumption readings for a sample of 5,567 London Households that took part in the UK Power Networks led Low Carbon London project between November 2011 and February 2014.\n",
        "\n",
        "Readings were taken at half hourly intervals. The customers in the trial were recruited as a balanced sample representative of the Greater London population.\n",
        "\n",
        "The dataset contains energy consumption, in kWh (per half hour), unique household identifier, date and time. The CSV file is around 10GB when unzipped and contains around 167million rows.\n",
        "\n",
        "Within the data set are two groups of customers. The first is a sub-group, of approximately 1100 customers, who were subjected to Dynamic Time of Use (dToU) energy prices throughout the 2013 calendar year period. The tariff prices were given a day ahead via the Smart Meter IHD (In Home Display) or text message to mobile phone. Customers were issued High (67.20p/kWh), Low (3.99p/kWh) or normal (11.76p/kWh) price signals and the times of day these applied. The dates/times and the price signal schedule is availaible as part of this dataset. All non-Time of Use customers were on a flat rate tariff of 14.228pence/kWh.\n",
        "\n",
        "The signals given were designed to be representative of the types of signal that may be used in the future to manage both high renewable generation (supply following) operation and also test the potential to use high price signals to reduce stress on local distribution grids during periods of stress.\n",
        "\n",
        "The remaining sample of approximately 4500 customers energy consumption readings were not subject to the dToU tariff.\"\n"
      ]
    },
    {
      "cell_type": "markdown",
      "metadata": {},
      "source": [
        "## Create a huge dataframe with all hourly info"
      ]
    },
    {
      "cell_type": "code",
      "execution_count": 7,
      "metadata": {},
      "outputs": [],
      "source": [
        "import pandas as pd\n",
        "import glob\n",
        "\n",
        "# Read all CSV files and concatenate them into a single DataFrame\n",
        "path = \"data/archive/hhblock_dataset/hhblock_dataset/\" \n",
        "\n",
        "all_files = glob.glob(path + \"block_*.csv\")\n",
        "df_list = []\n",
        "for filename in all_files:\n",
        "    df = pd.read_csv(filename)\n",
        "    df_list.append(df)\n",
        "full_df = pd.concat(df_list)\n"
      ]
    },
    {
      "cell_type": "code",
      "execution_count": 11,
      "metadata": {},
      "outputs": [
        {
          "data": {
            "text/html": [
              "<div>\n",
              "<style scoped>\n",
              "    .dataframe tbody tr th:only-of-type {\n",
              "        vertical-align: middle;\n",
              "    }\n",
              "\n",
              "    .dataframe tbody tr th {\n",
              "        vertical-align: top;\n",
              "    }\n",
              "\n",
              "    .dataframe thead th {\n",
              "        text-align: right;\n",
              "    }\n",
              "</style>\n",
              "<table border=\"1\" class=\"dataframe\">\n",
              "  <thead>\n",
              "    <tr style=\"text-align: right;\">\n",
              "      <th></th>\n",
              "      <th>LCLid</th>\n",
              "      <th>day</th>\n",
              "      <th>hh_0</th>\n",
              "      <th>hh_1</th>\n",
              "      <th>hh_2</th>\n",
              "      <th>hh_3</th>\n",
              "      <th>hh_4</th>\n",
              "      <th>hh_5</th>\n",
              "      <th>hh_6</th>\n",
              "      <th>hh_7</th>\n",
              "      <th>...</th>\n",
              "      <th>hh_38</th>\n",
              "      <th>hh_39</th>\n",
              "      <th>hh_40</th>\n",
              "      <th>hh_41</th>\n",
              "      <th>hh_42</th>\n",
              "      <th>hh_43</th>\n",
              "      <th>hh_44</th>\n",
              "      <th>hh_45</th>\n",
              "      <th>hh_46</th>\n",
              "      <th>hh_47</th>\n",
              "    </tr>\n",
              "  </thead>\n",
              "  <tbody>\n",
              "    <tr>\n",
              "      <th>0</th>\n",
              "      <td>MAC000155</td>\n",
              "      <td>2011-11-24</td>\n",
              "      <td>0.256</td>\n",
              "      <td>0.171</td>\n",
              "      <td>0.176</td>\n",
              "      <td>0.218</td>\n",
              "      <td>0.205</td>\n",
              "      <td>0.215</td>\n",
              "      <td>0.227</td>\n",
              "      <td>0.230</td>\n",
              "      <td>...</td>\n",
              "      <td>0.703</td>\n",
              "      <td>0.955</td>\n",
              "      <td>0.730</td>\n",
              "      <td>0.560</td>\n",
              "      <td>0.625</td>\n",
              "      <td>0.786</td>\n",
              "      <td>0.542</td>\n",
              "      <td>0.757</td>\n",
              "      <td>0.442</td>\n",
              "      <td>0.226</td>\n",
              "    </tr>\n",
              "    <tr>\n",
              "      <th>1605</th>\n",
              "      <td>MAC000151</td>\n",
              "      <td>2011-11-24</td>\n",
              "      <td>0.027</td>\n",
              "      <td>0.026</td>\n",
              "      <td>0.027</td>\n",
              "      <td>0.026</td>\n",
              "      <td>0.060</td>\n",
              "      <td>0.050</td>\n",
              "      <td>0.026</td>\n",
              "      <td>0.026</td>\n",
              "      <td>...</td>\n",
              "      <td>0.164</td>\n",
              "      <td>0.156</td>\n",
              "      <td>0.153</td>\n",
              "      <td>0.152</td>\n",
              "      <td>0.268</td>\n",
              "      <td>0.182</td>\n",
              "      <td>0.183</td>\n",
              "      <td>0.129</td>\n",
              "      <td>0.045</td>\n",
              "      <td>0.038</td>\n",
              "    </tr>\n",
              "    <tr>\n",
              "      <th>0</th>\n",
              "      <td>MAC000147</td>\n",
              "      <td>2011-11-24</td>\n",
              "      <td>0.271</td>\n",
              "      <td>0.176</td>\n",
              "      <td>0.118</td>\n",
              "      <td>0.115</td>\n",
              "      <td>0.114</td>\n",
              "      <td>0.111</td>\n",
              "      <td>0.055</td>\n",
              "      <td>0.048</td>\n",
              "      <td>...</td>\n",
              "      <td>0.269</td>\n",
              "      <td>0.495</td>\n",
              "      <td>0.469</td>\n",
              "      <td>0.444</td>\n",
              "      <td>0.390</td>\n",
              "      <td>0.293</td>\n",
              "      <td>0.358</td>\n",
              "      <td>0.171</td>\n",
              "      <td>0.299</td>\n",
              "      <td>0.180</td>\n",
              "    </tr>\n",
              "    <tr>\n",
              "      <th>2422</th>\n",
              "      <td>MAC000157</td>\n",
              "      <td>2011-11-24</td>\n",
              "      <td>0.388</td>\n",
              "      <td>0.428</td>\n",
              "      <td>0.323</td>\n",
              "      <td>0.334</td>\n",
              "      <td>0.330</td>\n",
              "      <td>0.175</td>\n",
              "      <td>0.186</td>\n",
              "      <td>0.253</td>\n",
              "      <td>...</td>\n",
              "      <td>0.292</td>\n",
              "      <td>0.324</td>\n",
              "      <td>0.261</td>\n",
              "      <td>0.230</td>\n",
              "      <td>0.316</td>\n",
              "      <td>0.290</td>\n",
              "      <td>0.258</td>\n",
              "      <td>0.349</td>\n",
              "      <td>0.340</td>\n",
              "      <td>0.295</td>\n",
              "    </tr>\n",
              "    <tr>\n",
              "      <th>824</th>\n",
              "      <td>MAC000153</td>\n",
              "      <td>2011-11-24</td>\n",
              "      <td>0.408</td>\n",
              "      <td>2.159</td>\n",
              "      <td>1.952</td>\n",
              "      <td>1.714</td>\n",
              "      <td>0.743</td>\n",
              "      <td>0.277</td>\n",
              "      <td>0.315</td>\n",
              "      <td>0.459</td>\n",
              "      <td>...</td>\n",
              "      <td>0.718</td>\n",
              "      <td>0.567</td>\n",
              "      <td>0.668</td>\n",
              "      <td>0.615</td>\n",
              "      <td>1.019</td>\n",
              "      <td>0.580</td>\n",
              "      <td>1.056</td>\n",
              "      <td>0.878</td>\n",
              "      <td>0.686</td>\n",
              "      <td>0.609</td>\n",
              "    </tr>\n",
              "  </tbody>\n",
              "</table>\n",
              "<p>5 rows × 50 columns</p>\n",
              "</div>"
            ],
            "text/plain": [
              "          LCLid         day   hh_0   hh_1   hh_2   hh_3   hh_4   hh_5   hh_6  \\\n",
              "0     MAC000155  2011-11-24  0.256  0.171  0.176  0.218  0.205  0.215  0.227   \n",
              "1605  MAC000151  2011-11-24  0.027  0.026  0.027  0.026  0.060  0.050  0.026   \n",
              "0     MAC000147  2011-11-24  0.271  0.176  0.118  0.115  0.114  0.111  0.055   \n",
              "2422  MAC000157  2011-11-24  0.388  0.428  0.323  0.334  0.330  0.175  0.186   \n",
              "824   MAC000153  2011-11-24  0.408  2.159  1.952  1.714  0.743  0.277  0.315   \n",
              "\n",
              "       hh_7  ...  hh_38  hh_39  hh_40  hh_41  hh_42  hh_43  hh_44  hh_45  \\\n",
              "0     0.230  ...  0.703  0.955  0.730  0.560  0.625  0.786  0.542  0.757   \n",
              "1605  0.026  ...  0.164  0.156  0.153  0.152  0.268  0.182  0.183  0.129   \n",
              "0     0.048  ...  0.269  0.495  0.469  0.444  0.390  0.293  0.358  0.171   \n",
              "2422  0.253  ...  0.292  0.324  0.261  0.230  0.316  0.290  0.258  0.349   \n",
              "824   0.459  ...  0.718  0.567  0.668  0.615  1.019  0.580  1.056  0.878   \n",
              "\n",
              "      hh_46  hh_47  \n",
              "0     0.442  0.226  \n",
              "1605  0.045  0.038  \n",
              "0     0.299  0.180  \n",
              "2422  0.340  0.295  \n",
              "824   0.686  0.609  \n",
              "\n",
              "[5 rows x 50 columns]"
            ]
          },
          "execution_count": 11,
          "metadata": {},
          "output_type": "execute_result"
        }
      ],
      "source": [
        "londonDataSortedByDay = full_df.sort_values(by='day')\n",
        "londonDataSortedByDay.shape"
      ]
    },
    {
      "cell_type": "code",
      "execution_count": null,
      "metadata": {},
      "outputs": [],
      "source": [
        "londonDataSortedByDay.dropna(inplace=True)"
      ]
    },
    {
      "cell_type": "code",
      "execution_count": null,
      "metadata": {},
      "outputs": [],
      "source": []
    },
    {
      "cell_type": "markdown",
      "metadata": {
        "id": "MeOO_tCzu59Z"
      },
      "source": [
        "## Visualize the features"
      ]
    },
    {
      "cell_type": "code",
      "execution_count": null,
      "metadata": {
        "id": "7uVuUwu_wels"
      },
      "outputs": [
        {
          "name": "stdout",
          "output_type": "stream",
          "text": [
            "<class 'pandas.core.frame.DataFrame'>\n",
            "RangeIndex: 70 entries, 5 to 1208885\n",
            "Data columns (total 3 columns):\n",
            " #   Column          Non-Null Count  Dtype \n",
            "---  ------          --------------  ----- \n",
            " 0   LCLid           70 non-null     object\n",
            " 1   tstp            70 non-null     object\n",
            " 2   energy(kWh/hh)  70 non-null     object\n",
            "dtypes: object(3)\n",
            "memory usage: 1.8+ KB\n"
          ]
        }
      ],
      "source": [
        "#https://www.tensorflow.org/tutorials/structured_data/time_series\n",
        "\n",
        "import os\n",
        "import datetime\n",
        "\n",
        "import IPython\n",
        "import IPython.display\n",
        "import matplotlib as mpl\n",
        "import matplotlib.pyplot as plt\n",
        "import numpy as np\n",
        "import pandas as pd\n",
        "import seaborn as sns\n",
        "import tensorflow as tf\n",
        "\n",
        "mpl.rcParams['figure.figsize'] = (8, 6)\n",
        "mpl.rcParams['axes.grid'] = False\n",
        "\n",
        "df = block1\n",
        "# Slice [start:stop:step], starting from index 5 take every 6th record.\n",
        "df = df[5::17520]\n",
        "\n",
        "df.head()"
      ]
    },
    {
      "cell_type": "code",
      "execution_count": null,
      "metadata": {},
      "outputs": [
        {
          "ename": "KeyError",
          "evalue": "'tstp'",
          "output_type": "error",
          "traceback": [
            "\u001b[1;31m---------------------------------------------------------------------------\u001b[0m",
            "\u001b[1;31mKeyError\u001b[0m                                  Traceback (most recent call last)",
            "File \u001b[1;32mc:\\Users\\brely\\anaconda3\\lib\\site-packages\\pandas\\core\\indexes\\base.py:3802\u001b[0m, in \u001b[0;36mIndex.get_loc\u001b[1;34m(self, key, method, tolerance)\u001b[0m\n\u001b[0;32m   3801\u001b[0m \u001b[38;5;28;01mtry\u001b[39;00m:\n\u001b[1;32m-> 3802\u001b[0m     \u001b[38;5;28;01mreturn\u001b[39;00m \u001b[38;5;28;43mself\u001b[39;49m\u001b[38;5;241;43m.\u001b[39;49m\u001b[43m_engine\u001b[49m\u001b[38;5;241;43m.\u001b[39;49m\u001b[43mget_loc\u001b[49m\u001b[43m(\u001b[49m\u001b[43mcasted_key\u001b[49m\u001b[43m)\u001b[49m\n\u001b[0;32m   3803\u001b[0m \u001b[38;5;28;01mexcept\u001b[39;00m \u001b[38;5;167;01mKeyError\u001b[39;00m \u001b[38;5;28;01mas\u001b[39;00m err:\n",
            "File \u001b[1;32mc:\\Users\\brely\\anaconda3\\lib\\site-packages\\pandas\\_libs\\index.pyx:138\u001b[0m, in \u001b[0;36mpandas._libs.index.IndexEngine.get_loc\u001b[1;34m()\u001b[0m\n",
            "File \u001b[1;32mc:\\Users\\brely\\anaconda3\\lib\\site-packages\\pandas\\_libs\\index.pyx:165\u001b[0m, in \u001b[0;36mpandas._libs.index.IndexEngine.get_loc\u001b[1;34m()\u001b[0m\n",
            "File \u001b[1;32mpandas\\_libs\\hashtable_class_helper.pxi:5745\u001b[0m, in \u001b[0;36mpandas._libs.hashtable.PyObjectHashTable.get_item\u001b[1;34m()\u001b[0m\n",
            "File \u001b[1;32mpandas\\_libs\\hashtable_class_helper.pxi:5753\u001b[0m, in \u001b[0;36mpandas._libs.hashtable.PyObjectHashTable.get_item\u001b[1;34m()\u001b[0m\n",
            "\u001b[1;31mKeyError\u001b[0m: 'tstp'",
            "\nThe above exception was the direct cause of the following exception:\n",
            "\u001b[1;31mKeyError\u001b[0m                                  Traceback (most recent call last)",
            "Cell \u001b[1;32mIn[73], line 3\u001b[0m\n\u001b[0;32m      1\u001b[0m plot_cols \u001b[38;5;241m=\u001b[39m [\u001b[38;5;124m'\u001b[39m\u001b[38;5;124menergy(kWh/hh)\u001b[39m\u001b[38;5;124m'\u001b[39m]\n\u001b[0;32m      2\u001b[0m plot_features \u001b[38;5;241m=\u001b[39m df[plot_cols]\n\u001b[1;32m----> 3\u001b[0m plot_features\u001b[38;5;241m.\u001b[39mindex \u001b[38;5;241m=\u001b[39m \u001b[43mdf\u001b[49m\u001b[43m[\u001b[49m\u001b[38;5;124;43m'\u001b[39;49m\u001b[38;5;124;43mtstp\u001b[39;49m\u001b[38;5;124;43m'\u001b[39;49m\u001b[43m]\u001b[49m\n\u001b[0;32m      4\u001b[0m _ \u001b[38;5;241m=\u001b[39m plot_features\u001b[38;5;241m.\u001b[39mplot(subplots\u001b[38;5;241m=\u001b[39m\u001b[38;5;28;01mTrue\u001b[39;00m)\n\u001b[0;32m      6\u001b[0m plot_features \u001b[38;5;241m=\u001b[39m df[plot_cols][:\u001b[38;5;241m480\u001b[39m]\n",
            "File \u001b[1;32mc:\\Users\\brely\\anaconda3\\lib\\site-packages\\pandas\\core\\frame.py:3807\u001b[0m, in \u001b[0;36mDataFrame.__getitem__\u001b[1;34m(self, key)\u001b[0m\n\u001b[0;32m   3805\u001b[0m \u001b[38;5;28;01mif\u001b[39;00m \u001b[38;5;28mself\u001b[39m\u001b[38;5;241m.\u001b[39mcolumns\u001b[38;5;241m.\u001b[39mnlevels \u001b[38;5;241m>\u001b[39m \u001b[38;5;241m1\u001b[39m:\n\u001b[0;32m   3806\u001b[0m     \u001b[38;5;28;01mreturn\u001b[39;00m \u001b[38;5;28mself\u001b[39m\u001b[38;5;241m.\u001b[39m_getitem_multilevel(key)\n\u001b[1;32m-> 3807\u001b[0m indexer \u001b[38;5;241m=\u001b[39m \u001b[38;5;28;43mself\u001b[39;49m\u001b[38;5;241;43m.\u001b[39;49m\u001b[43mcolumns\u001b[49m\u001b[38;5;241;43m.\u001b[39;49m\u001b[43mget_loc\u001b[49m\u001b[43m(\u001b[49m\u001b[43mkey\u001b[49m\u001b[43m)\u001b[49m\n\u001b[0;32m   3808\u001b[0m \u001b[38;5;28;01mif\u001b[39;00m is_integer(indexer):\n\u001b[0;32m   3809\u001b[0m     indexer \u001b[38;5;241m=\u001b[39m [indexer]\n",
            "File \u001b[1;32mc:\\Users\\brely\\anaconda3\\lib\\site-packages\\pandas\\core\\indexes\\base.py:3804\u001b[0m, in \u001b[0;36mIndex.get_loc\u001b[1;34m(self, key, method, tolerance)\u001b[0m\n\u001b[0;32m   3802\u001b[0m     \u001b[38;5;28;01mreturn\u001b[39;00m \u001b[38;5;28mself\u001b[39m\u001b[38;5;241m.\u001b[39m_engine\u001b[38;5;241m.\u001b[39mget_loc(casted_key)\n\u001b[0;32m   3803\u001b[0m \u001b[38;5;28;01mexcept\u001b[39;00m \u001b[38;5;167;01mKeyError\u001b[39;00m \u001b[38;5;28;01mas\u001b[39;00m err:\n\u001b[1;32m-> 3804\u001b[0m     \u001b[38;5;28;01mraise\u001b[39;00m \u001b[38;5;167;01mKeyError\u001b[39;00m(key) \u001b[38;5;28;01mfrom\u001b[39;00m \u001b[38;5;21;01merr\u001b[39;00m\n\u001b[0;32m   3805\u001b[0m \u001b[38;5;28;01mexcept\u001b[39;00m \u001b[38;5;167;01mTypeError\u001b[39;00m:\n\u001b[0;32m   3806\u001b[0m     \u001b[38;5;66;03m# If we have a listlike key, _check_indexing_error will raise\u001b[39;00m\n\u001b[0;32m   3807\u001b[0m     \u001b[38;5;66;03m#  InvalidIndexError. Otherwise we fall through and re-raise\u001b[39;00m\n\u001b[0;32m   3808\u001b[0m     \u001b[38;5;66;03m#  the TypeError.\u001b[39;00m\n\u001b[0;32m   3809\u001b[0m     \u001b[38;5;28mself\u001b[39m\u001b[38;5;241m.\u001b[39m_check_indexing_error(key)\n",
            "\u001b[1;31mKeyError\u001b[0m: 'tstp'"
          ]
        }
      ],
      "source": [
        "plot_cols = ['T (degC)', 'p (mbar)', 'rho (g/m**3)']\n",
        "plot_features = df[plot_cols]\n",
        "plot_features.index = date_time\n",
        "_ = plot_features.plot(subplots=True)\n",
        "\n",
        "plot_features = df[plot_cols][:480]\n",
        "plot_features.index = date_time[:480]\n",
        "_ = plot_features.plot(subplots=True)"
      ]
    },
    {
      "cell_type": "markdown",
      "metadata": {
        "id": "bHuGfumEvkua"
      },
      "source": [
        "# STEP 2: FEATURE ENGINEERING / DATA CLEANING / PRE-PROCESSING TECHNIQUES"
      ]
    },
    {
      "cell_type": "markdown",
      "metadata": {
        "id": "d0S1rGcDvSl5"
      },
      "source": [
        "## Label your target variable"
      ]
    },
    {
      "cell_type": "code",
      "execution_count": null,
      "metadata": {
        "id": "MYS-_zVcwd_r"
      },
      "outputs": [],
      "source": [
        "# Ex) Change \"yes\" or \"no\" to 1 or 0 so the model understands the label"
      ]
    },
    {
      "cell_type": "code",
      "execution_count": null,
      "metadata": {
        "id": "-Mr2SBa4wdEo"
      },
      "outputs": [],
      "source": []
    },
    {
      "cell_type": "markdown",
      "metadata": {
        "id": "EPW13lhkwlS6"
      },
      "source": [
        "## Fix the data imbalance and other problems from STEP 1"
      ]
    },
    {
      "cell_type": "code",
      "execution_count": null,
      "metadata": {
        "id": "y2sciOk5yIA5"
      },
      "outputs": [],
      "source": []
    },
    {
      "cell_type": "markdown",
      "metadata": {
        "id": "cNaZexBKwrWx"
      },
      "source": [
        "## Seperate features (x) from labels (y)"
      ]
    },
    {
      "cell_type": "code",
      "execution_count": null,
      "metadata": {
        "id": "1mhjJgSGyHUB"
      },
      "outputs": [],
      "source": []
    },
    {
      "cell_type": "markdown",
      "metadata": {
        "id": "ijBd2InWw2BN"
      },
      "source": [
        "## Feature Reduction"
      ]
    },
    {
      "cell_type": "code",
      "execution_count": null,
      "metadata": {
        "id": "b__jQ5YJyE_G"
      },
      "outputs": [],
      "source": []
    },
    {
      "cell_type": "markdown",
      "metadata": {
        "id": "gBO67tBlw8Ss"
      },
      "source": [
        "## Normalize / Scale the Data"
      ]
    },
    {
      "cell_type": "code",
      "execution_count": null,
      "metadata": {
        "id": "g0NQS2PLyEeH"
      },
      "outputs": [],
      "source": []
    },
    {
      "cell_type": "markdown",
      "metadata": {
        "id": "Lq06YLwyxBor"
      },
      "source": [
        "## Investigate Variance or Feature Importance"
      ]
    },
    {
      "cell_type": "code",
      "execution_count": null,
      "metadata": {
        "id": "RX9AJBYQyD3l"
      },
      "outputs": [],
      "source": []
    },
    {
      "cell_type": "markdown",
      "metadata": {
        "id": "gq8yldaFxbq-"
      },
      "source": [
        "# STEP 3: MODEL TRAINING & BUILDING\n"
      ]
    },
    {
      "cell_type": "code",
      "execution_count": null,
      "metadata": {
        "id": "khN89Pe7xiN4"
      },
      "outputs": [],
      "source": []
    },
    {
      "cell_type": "markdown",
      "metadata": {
        "id": "Hh8N0_yGxi66"
      },
      "source": [
        "## Split into Train and Test data"
      ]
    },
    {
      "cell_type": "code",
      "execution_count": null,
      "metadata": {
        "id": "pAWwUcSEyCk0"
      },
      "outputs": [],
      "source": []
    },
    {
      "cell_type": "markdown",
      "metadata": {
        "id": "iXKSCFoRxumo"
      },
      "source": [
        "## Use a Model"
      ]
    },
    {
      "cell_type": "code",
      "execution_count": null,
      "metadata": {
        "id": "QpDhyjwNyCDm"
      },
      "outputs": [],
      "source": []
    },
    {
      "cell_type": "markdown",
      "metadata": {
        "id": "O4SGGaDWxz9X"
      },
      "source": [
        "## Perform a Hyperparameter Search"
      ]
    },
    {
      "cell_type": "code",
      "execution_count": null,
      "metadata": {
        "id": "qckGo2oRyAML"
      },
      "outputs": [],
      "source": []
    },
    {
      "cell_type": "markdown",
      "metadata": {
        "id": "1bap9XXTynZZ"
      },
      "source": [
        "## Save the best model"
      ]
    },
    {
      "cell_type": "code",
      "execution_count": null,
      "metadata": {
        "id": "85oE97gyyve_"
      },
      "outputs": [],
      "source": []
    },
    {
      "cell_type": "markdown",
      "metadata": {
        "id": "ZCNgUErzyQ54"
      },
      "source": [
        "# STEP 4: EVALUATE THE MODEL"
      ]
    },
    {
      "cell_type": "markdown",
      "metadata": {
        "id": "FwZk0r8ry-Hu"
      },
      "source": [
        "## Look at Metrics - Ex) Precision, Recall, F1 score"
      ]
    },
    {
      "cell_type": "code",
      "execution_count": null,
      "metadata": {
        "id": "PS9-fA9uzNxF"
      },
      "outputs": [],
      "source": []
    },
    {
      "cell_type": "markdown",
      "metadata": {
        "id": "FftWhxZ0ycNr"
      },
      "source": [
        "## Plot a Confusion Matrix"
      ]
    },
    {
      "cell_type": "code",
      "execution_count": null,
      "metadata": {
        "id": "G-A8xydGywLa"
      },
      "outputs": [],
      "source": []
    },
    {
      "cell_type": "markdown",
      "metadata": {
        "id": "jg77bvA51bzL"
      },
      "source": [
        "# STEP 5: DEPLOY MODEL"
      ]
    },
    {
      "cell_type": "code",
      "execution_count": null,
      "metadata": {
        "id": "Xq1wWTmo2Xfl"
      },
      "outputs": [],
      "source": []
    }
  ],
  "metadata": {
    "colab": {
      "authorship_tag": "ABX9TyPS3qGwBFpq6ihHfebWnMek",
      "include_colab_link": true,
      "provenance": [],
      "toc_visible": true
    },
    "kernelspec": {
      "display_name": "Python 3",
      "name": "python3"
    },
    "language_info": {
      "codemirror_mode": {
        "name": "ipython",
        "version": 3
      },
      "file_extension": ".py",
      "mimetype": "text/x-python",
      "name": "python",
      "nbconvert_exporter": "python",
      "pygments_lexer": "ipython3",
      "version": "3.10.9"
    }
  },
  "nbformat": 4,
  "nbformat_minor": 0
}

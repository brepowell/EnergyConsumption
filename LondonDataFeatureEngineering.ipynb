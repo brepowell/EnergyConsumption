{
  "cells": [
    {
      "cell_type": "markdown",
      "metadata": {
        "colab_type": "text",
        "id": "view-in-github"
      },
      "source": [
        "<a href=\"https://colab.research.google.com/github/brepowell/ML-Contest-Series/blob/main/MLSeriesSupervisedLearningTemplate.ipynb\" target=\"_parent\"><img src=\"https://colab.research.google.com/assets/colab-badge.svg\" alt=\"Open In Colab\"/></a>"
      ]
    },
    {
      "cell_type": "markdown",
      "metadata": {
        "id": "FM6YqhcasT5w"
      },
      "source": [
        "Author: Breanna Powell\n",
        "\n",
        "CSS 539\n",
        "\n",
        "# To run:\n",
        "Use an IDE that will allow you to open a Jupyter Notebook.\n",
        "\n",
        "For example, use Anaconda Navigator to open Visual Studio Code.\n",
        "\n",
        "You may need to select a kernel to run the program.\n",
        "\n",
        "I used base(Python 3.10.9)"
      ]
    },
    {
      "cell_type": "markdown",
      "metadata": {
        "id": "mA7frvLc7vtj"
      },
      "source": [
        "## Import Libraries"
      ]
    },
    {
      "cell_type": "code",
      "execution_count": 1,
      "metadata": {
        "id": "MHcOyHzp7x5l"
      },
      "outputs": [],
      "source": [
        "# This step can be done in any cell of the notebook. It does not have to be at the top.\n",
        "import pandas as pd\n",
        "import matplotlib as plt"
      ]
    },
    {
      "cell_type": "markdown",
      "metadata": {},
      "source": [
        "## Data Information"
      ]
    },
    {
      "cell_type": "markdown",
      "metadata": {},
      "source": [
        "From:\n",
        "https://data.london.gov.uk/dataset/smartmeter-energy-use-data-in-london-households\n",
        "\n",
        "More Info:\n",
        "https://innovation.ukpowernetworks.co.uk/projects/low-carbon-london\n",
        "\n",
        "\"Created 9 years ago, updated 2 years ago\n",
        "Energy consumption readings for a sample of 5,567 London Households that took part in the UK Power Networks led Low Carbon London project between November 2011 and February 2014.\n",
        "\n",
        "Readings were taken at half hourly intervals. The customers in the trial were recruited as a balanced sample representative of the Greater London population.\n",
        "\n",
        "The dataset contains energy consumption, in kWh (per half hour), unique household identifier, date and time. The CSV file is around 10GB when unzipped and contains around 167million rows.\n",
        "\n",
        "Within the data set are two groups of customers. The first is a sub-group, of approximately 1100 customers, who were subjected to Dynamic Time of Use (dToU) energy prices throughout the 2013 calendar year period. The tariff prices were given a day ahead via the Smart Meter IHD (In Home Display) or text message to mobile phone. Customers were issued High (67.20p/kWh), Low (3.99p/kWh) or normal (11.76p/kWh) price signals and the times of day these applied. The dates/times and the price signal schedule is availaible as part of this dataset. All non-Time of Use customers were on a flat rate tariff of 14.228pence/kWh.\n",
        "\n",
        "The signals given were designed to be representative of the types of signal that may be used in the future to manage both high renewable generation (supply following) operation and also test the potential to use high price signals to reduce stress on local distribution grids during periods of stress.\n",
        "\n",
        "The remaining sample of approximately 4500 customers energy consumption readings were not subject to the dToU tariff.\"\n"
      ]
    },
    {
      "cell_type": "markdown",
      "metadata": {},
      "source": [
        "## Create a huge dataframe with all hourly info"
      ]
    },
    {
      "cell_type": "code",
      "execution_count": 2,
      "metadata": {},
      "outputs": [
        {
          "name": "stderr",
          "output_type": "stream",
          "text": [
            "C:\\Users\\brely\\AppData\\Local\\Temp\\ipykernel_4924\\3336080981.py:14: DtypeWarning: Columns (2) have mixed types. Specify dtype option on import or set low_memory=False.\n",
            "  df = pd.read_csv(filename)\n",
            "C:\\Users\\brely\\AppData\\Local\\Temp\\ipykernel_4924\\3336080981.py:14: DtypeWarning: Columns (2) have mixed types. Specify dtype option on import or set low_memory=False.\n",
            "  df = pd.read_csv(filename)\n",
            "C:\\Users\\brely\\AppData\\Local\\Temp\\ipykernel_4924\\3336080981.py:14: DtypeWarning: Columns (2) have mixed types. Specify dtype option on import or set low_memory=False.\n",
            "  df = pd.read_csv(filename)\n",
            "C:\\Users\\brely\\AppData\\Local\\Temp\\ipykernel_4924\\3336080981.py:14: DtypeWarning: Columns (2) have mixed types. Specify dtype option on import or set low_memory=False.\n",
            "  df = pd.read_csv(filename)\n",
            "C:\\Users\\brely\\AppData\\Local\\Temp\\ipykernel_4924\\3336080981.py:14: DtypeWarning: Columns (2) have mixed types. Specify dtype option on import or set low_memory=False.\n",
            "  df = pd.read_csv(filename)\n",
            "C:\\Users\\brely\\AppData\\Local\\Temp\\ipykernel_4924\\3336080981.py:14: DtypeWarning: Columns (2) have mixed types. Specify dtype option on import or set low_memory=False.\n",
            "  df = pd.read_csv(filename)\n",
            "C:\\Users\\brely\\AppData\\Local\\Temp\\ipykernel_4924\\3336080981.py:14: DtypeWarning: Columns (2) have mixed types. Specify dtype option on import or set low_memory=False.\n",
            "  df = pd.read_csv(filename)\n",
            "C:\\Users\\brely\\AppData\\Local\\Temp\\ipykernel_4924\\3336080981.py:14: DtypeWarning: Columns (2) have mixed types. Specify dtype option on import or set low_memory=False.\n",
            "  df = pd.read_csv(filename)\n"
          ]
        },
        {
          "data": {
            "text/plain": [
              "(167817021, 3)"
            ]
          },
          "execution_count": 2,
          "metadata": {},
          "output_type": "execute_result"
        }
      ],
      "source": [
        "##############################\n",
        "# This takes about 2 minutes #\n",
        "##############################\n",
        "\n",
        "import glob\n",
        "\n",
        "def readAllHourlyData():\n",
        "    # Read all CSV files and concatenate them into a single DataFrame\n",
        "    path = \"data/archive/halfhourly_dataset/halfhourly_dataset/\" \n",
        "\n",
        "    all_files = glob.glob(path + \"block_*.csv\")\n",
        "    df_list = []\n",
        "    for filename in all_files:\n",
        "        df = pd.read_csv(filename)\n",
        "        df_list.append(df)\n",
        "    full_df = pd.concat(df_list)\n",
        "\n",
        "    return full_df\n",
        "\n",
        "londonData = readAllHourlyData()\n",
        "londonData.shape"
      ]
    },
    {
      "cell_type": "code",
      "execution_count": 3,
      "metadata": {},
      "outputs": [
        {
          "data": {
            "text/html": [
              "<div>\n",
              "<style scoped>\n",
              "    .dataframe tbody tr th:only-of-type {\n",
              "        vertical-align: middle;\n",
              "    }\n",
              "\n",
              "    .dataframe tbody tr th {\n",
              "        vertical-align: top;\n",
              "    }\n",
              "\n",
              "    .dataframe thead th {\n",
              "        text-align: right;\n",
              "    }\n",
              "</style>\n",
              "<table border=\"1\" class=\"dataframe\">\n",
              "  <thead>\n",
              "    <tr style=\"text-align: right;\">\n",
              "      <th></th>\n",
              "      <th>LCLid</th>\n",
              "      <th>tstp</th>\n",
              "      <th>energy(kWh/hh)</th>\n",
              "    </tr>\n",
              "  </thead>\n",
              "  <tbody>\n",
              "    <tr>\n",
              "      <th>0</th>\n",
              "      <td>MAC000002</td>\n",
              "      <td>2012-10-12 00:30:00.0000000</td>\n",
              "      <td>0</td>\n",
              "    </tr>\n",
              "    <tr>\n",
              "      <th>1</th>\n",
              "      <td>MAC000002</td>\n",
              "      <td>2012-10-12 01:00:00.0000000</td>\n",
              "      <td>0</td>\n",
              "    </tr>\n",
              "    <tr>\n",
              "      <th>2</th>\n",
              "      <td>MAC000002</td>\n",
              "      <td>2012-10-12 01:30:00.0000000</td>\n",
              "      <td>0</td>\n",
              "    </tr>\n",
              "    <tr>\n",
              "      <th>3</th>\n",
              "      <td>MAC000002</td>\n",
              "      <td>2012-10-12 02:00:00.0000000</td>\n",
              "      <td>0</td>\n",
              "    </tr>\n",
              "    <tr>\n",
              "      <th>4</th>\n",
              "      <td>MAC000002</td>\n",
              "      <td>2012-10-12 02:30:00.0000000</td>\n",
              "      <td>0</td>\n",
              "    </tr>\n",
              "  </tbody>\n",
              "</table>\n",
              "</div>"
            ],
            "text/plain": [
              "       LCLid                         tstp energy(kWh/hh)\n",
              "0  MAC000002  2012-10-12 00:30:00.0000000             0 \n",
              "1  MAC000002  2012-10-12 01:00:00.0000000             0 \n",
              "2  MAC000002  2012-10-12 01:30:00.0000000             0 \n",
              "3  MAC000002  2012-10-12 02:00:00.0000000             0 \n",
              "4  MAC000002  2012-10-12 02:30:00.0000000             0 "
            ]
          },
          "execution_count": 3,
          "metadata": {},
          "output_type": "execute_result"
        }
      ],
      "source": [
        "londonData.head()"
      ]
    },
    {
      "cell_type": "markdown",
      "metadata": {},
      "source": [
        "# SELECT FEATUERS"
      ]
    },
    {
      "cell_type": "code",
      "execution_count": 4,
      "metadata": {},
      "outputs": [],
      "source": [
        "# What features do I want?\n",
        "# Weekends - 0 for weekday or 1 for weekend\n",
        "# NaN's - 0 for value or 1 for NaN\n",
        "# How many customers were represented on that day? - Might be needed for normalization\n",
        "# Dip in customers? - Could be a sign of an outage - 0 for no dip, 1 for dip\n",
        "# Blackout signature - mark hours before 0 power as signature days?\n",
        "# Weather Features - add later to see if improves"
      ]
    },
    {
      "cell_type": "markdown",
      "metadata": {},
      "source": [
        "## Feature: NaN"
      ]
    },
    {
      "cell_type": "code",
      "execution_count": 5,
      "metadata": {},
      "outputs": [
        {
          "name": "stdout",
          "output_type": "stream",
          "text": [
            "Number of NaN values: \n",
            "0    167817021\n",
            "Name: isNA, dtype: int64\n"
          ]
        },
        {
          "data": {
            "text/html": [
              "<div>\n",
              "<style scoped>\n",
              "    .dataframe tbody tr th:only-of-type {\n",
              "        vertical-align: middle;\n",
              "    }\n",
              "\n",
              "    .dataframe tbody tr th {\n",
              "        vertical-align: top;\n",
              "    }\n",
              "\n",
              "    .dataframe thead th {\n",
              "        text-align: right;\n",
              "    }\n",
              "</style>\n",
              "<table border=\"1\" class=\"dataframe\">\n",
              "  <thead>\n",
              "    <tr style=\"text-align: right;\">\n",
              "      <th></th>\n",
              "      <th>LCLid</th>\n",
              "      <th>tstp</th>\n",
              "      <th>energy(kWh/hh)</th>\n",
              "      <th>isNA</th>\n",
              "    </tr>\n",
              "  </thead>\n",
              "  <tbody>\n",
              "    <tr>\n",
              "      <th>0</th>\n",
              "      <td>MAC000002</td>\n",
              "      <td>2012-10-12 00:30:00.0000000</td>\n",
              "      <td>0</td>\n",
              "      <td>0</td>\n",
              "    </tr>\n",
              "    <tr>\n",
              "      <th>1</th>\n",
              "      <td>MAC000002</td>\n",
              "      <td>2012-10-12 01:00:00.0000000</td>\n",
              "      <td>0</td>\n",
              "      <td>0</td>\n",
              "    </tr>\n",
              "    <tr>\n",
              "      <th>2</th>\n",
              "      <td>MAC000002</td>\n",
              "      <td>2012-10-12 01:30:00.0000000</td>\n",
              "      <td>0</td>\n",
              "      <td>0</td>\n",
              "    </tr>\n",
              "    <tr>\n",
              "      <th>3</th>\n",
              "      <td>MAC000002</td>\n",
              "      <td>2012-10-12 02:00:00.0000000</td>\n",
              "      <td>0</td>\n",
              "      <td>0</td>\n",
              "    </tr>\n",
              "    <tr>\n",
              "      <th>4</th>\n",
              "      <td>MAC000002</td>\n",
              "      <td>2012-10-12 02:30:00.0000000</td>\n",
              "      <td>0</td>\n",
              "      <td>0</td>\n",
              "    </tr>\n",
              "  </tbody>\n",
              "</table>\n",
              "</div>"
            ],
            "text/plain": [
              "       LCLid                         tstp energy(kWh/hh)  isNA\n",
              "0  MAC000002  2012-10-12 00:30:00.0000000             0      0\n",
              "1  MAC000002  2012-10-12 01:00:00.0000000             0      0\n",
              "2  MAC000002  2012-10-12 01:30:00.0000000             0      0\n",
              "3  MAC000002  2012-10-12 02:00:00.0000000             0      0\n",
              "4  MAC000002  2012-10-12 02:30:00.0000000             0      0"
            ]
          },
          "execution_count": 5,
          "metadata": {},
          "output_type": "execute_result"
        }
      ],
      "source": [
        "import pandas as pd\n",
        "\n",
        "londonData[\"isNA\"] = londonData[\"energy(kWh/hh)\"].isna().astype(int)\n",
        "print(\"Number of NaN values: \\n{}\".format(londonData[\"isNA\"].value_counts(dropna=False)))\n",
        "londonData.head()\n"
      ]
    },
    {
      "cell_type": "markdown",
      "metadata": {},
      "source": [
        "## Feature: Day, Month, Year, Hour, Minute"
      ]
    },
    {
      "cell_type": "code",
      "execution_count": 6,
      "metadata": {},
      "outputs": [
        {
          "data": {
            "text/html": [
              "<div>\n",
              "<style scoped>\n",
              "    .dataframe tbody tr th:only-of-type {\n",
              "        vertical-align: middle;\n",
              "    }\n",
              "\n",
              "    .dataframe tbody tr th {\n",
              "        vertical-align: top;\n",
              "    }\n",
              "\n",
              "    .dataframe thead th {\n",
              "        text-align: right;\n",
              "    }\n",
              "</style>\n",
              "<table border=\"1\" class=\"dataframe\">\n",
              "  <thead>\n",
              "    <tr style=\"text-align: right;\">\n",
              "      <th></th>\n",
              "      <th>LCLid</th>\n",
              "      <th>energy(kWh/hh)</th>\n",
              "      <th>isNA</th>\n",
              "      <th>year</th>\n",
              "      <th>month</th>\n",
              "      <th>day</th>\n",
              "      <th>hour</th>\n",
              "      <th>minute</th>\n",
              "      <th>second</th>\n",
              "      <th>dayNumber</th>\n",
              "      <th>unixTimeStamp</th>\n",
              "    </tr>\n",
              "  </thead>\n",
              "  <tbody>\n",
              "    <tr>\n",
              "      <th>0</th>\n",
              "      <td>MAC000002</td>\n",
              "      <td>0</td>\n",
              "      <td>0</td>\n",
              "      <td>2012</td>\n",
              "      <td>10</td>\n",
              "      <td>12</td>\n",
              "      <td>0</td>\n",
              "      <td>30</td>\n",
              "      <td>0</td>\n",
              "      <td>4</td>\n",
              "      <td>1350001800</td>\n",
              "    </tr>\n",
              "    <tr>\n",
              "      <th>1</th>\n",
              "      <td>MAC000002</td>\n",
              "      <td>0</td>\n",
              "      <td>0</td>\n",
              "      <td>2012</td>\n",
              "      <td>10</td>\n",
              "      <td>12</td>\n",
              "      <td>1</td>\n",
              "      <td>0</td>\n",
              "      <td>0</td>\n",
              "      <td>4</td>\n",
              "      <td>1350003600</td>\n",
              "    </tr>\n",
              "    <tr>\n",
              "      <th>2</th>\n",
              "      <td>MAC000002</td>\n",
              "      <td>0</td>\n",
              "      <td>0</td>\n",
              "      <td>2012</td>\n",
              "      <td>10</td>\n",
              "      <td>12</td>\n",
              "      <td>1</td>\n",
              "      <td>30</td>\n",
              "      <td>0</td>\n",
              "      <td>4</td>\n",
              "      <td>1350005400</td>\n",
              "    </tr>\n",
              "    <tr>\n",
              "      <th>3</th>\n",
              "      <td>MAC000002</td>\n",
              "      <td>0</td>\n",
              "      <td>0</td>\n",
              "      <td>2012</td>\n",
              "      <td>10</td>\n",
              "      <td>12</td>\n",
              "      <td>2</td>\n",
              "      <td>0</td>\n",
              "      <td>0</td>\n",
              "      <td>4</td>\n",
              "      <td>1350007200</td>\n",
              "    </tr>\n",
              "    <tr>\n",
              "      <th>4</th>\n",
              "      <td>MAC000002</td>\n",
              "      <td>0</td>\n",
              "      <td>0</td>\n",
              "      <td>2012</td>\n",
              "      <td>10</td>\n",
              "      <td>12</td>\n",
              "      <td>2</td>\n",
              "      <td>30</td>\n",
              "      <td>0</td>\n",
              "      <td>4</td>\n",
              "      <td>1350009000</td>\n",
              "    </tr>\n",
              "  </tbody>\n",
              "</table>\n",
              "</div>"
            ],
            "text/plain": [
              "       LCLid energy(kWh/hh)  isNA  year  month  day  hour  minute  second  \\\n",
              "0  MAC000002             0      0  2012     10   12     0      30       0   \n",
              "1  MAC000002             0      0  2012     10   12     1       0       0   \n",
              "2  MAC000002             0      0  2012     10   12     1      30       0   \n",
              "3  MAC000002             0      0  2012     10   12     2       0       0   \n",
              "4  MAC000002             0      0  2012     10   12     2      30       0   \n",
              "\n",
              "   dayNumber  unixTimeStamp  \n",
              "0          4     1350001800  \n",
              "1          4     1350003600  \n",
              "2          4     1350005400  \n",
              "3          4     1350007200  \n",
              "4          4     1350009000  "
            ]
          },
          "execution_count": 6,
          "metadata": {},
          "output_type": "execute_result"
        }
      ],
      "source": [
        "##############################\n",
        "# This takes about 2 minutes #\n",
        "##############################\n",
        "\n",
        "def extractDayInformation(data):\n",
        "\n",
        "    # Convert 'tstp' column to datetime\n",
        "    data['tstp'] = pd.to_datetime(data['tstp'])\n",
        "    \n",
        "    # Extract day information\n",
        "    data['year'] = data['tstp'].dt.year              # 2011, 2012, 2013, 2014\n",
        "    data['month'] = data['tstp'].dt.month            # 1 to 12\n",
        "    data['day'] = data['tstp'].dt.day                # 1 to 31\n",
        "    data['hour'] = data['tstp'].dt.hour              # 1 to 23\n",
        "    data['minute'] = data['tstp'].dt.minute          # 0 to 54 - I thought this dataset only had half hour increments?\n",
        "    data['second'] = data['tstp'].dt.second          # 0 to 59 - Might not need seconds\n",
        "    data['dayNumber'] = data['tstp'].dt.dayofweek    # 0 to 6 where 0 is Monday and 6 is Sunday\n",
        "\n",
        "    # Get the unix timestamp as well - 1322038800 to 1393545600\n",
        "    data['unixTimeStamp'] = (data['tstp'] - pd.Timestamp(\"1970-01-01\")) // pd.Timedelta('1s')\n",
        "\n",
        "    # Get rid of the tstp column\n",
        "    data = data.drop(['tstp'], axis=1)\n",
        "    \n",
        "    return data\n",
        "\n",
        "londonData = extractDayInformation(londonData)\n",
        "londonData.head()\n"
      ]
    },
    {
      "cell_type": "code",
      "execution_count": 7,
      "metadata": {},
      "outputs": [],
      "source": [
        "# https://pandas.pydata.org/docs/reference/api/pandas.Series.dt.dayofweek.html\n",
        "# 0 is Monday; 6 is Sunday; 5 is Saturday\n",
        "londonData[\"weekend\"] = (londonData[\"dayNumber\"] > 4).astype(int)"
      ]
    },
    {
      "cell_type": "code",
      "execution_count": 8,
      "metadata": {},
      "outputs": [],
      "source": [
        "# Save\n",
        "\n",
        "londonData.head()\n",
        "path = \"Data/pickles/\"\n",
        "londonData.to_pickle(path + \"londonData.pkl\")"
      ]
    },
    {
      "cell_type": "markdown",
      "metadata": {},
      "source": [
        "# ==== SAVE AND LOAD ====\n",
        "I decided to save the data as a pkl here so that I could just run the cells below this point."
      ]
    },
    {
      "cell_type": "markdown",
      "metadata": {},
      "source": [
        "## Feature: Customers Count Per Day\n",
        "I will call this CServed"
      ]
    },
    {
      "cell_type": "code",
      "execution_count": 9,
      "metadata": {},
      "outputs": [],
      "source": [
        "############################################\n",
        "# This takes about 35 seconds to a minute  #\n",
        "############################################\n",
        "\n",
        "# Load\n",
        "\n",
        "import pandas as pd\n",
        "path = \"Data/pickles/\"\n",
        "londonData = pd.read_pickle(path + \"londonData.pkl\")"
      ]
    },
    {
      "cell_type": "code",
      "execution_count": 10,
      "metadata": {},
      "outputs": [
        {
          "data": {
            "text/html": [
              "<div>\n",
              "<style scoped>\n",
              "    .dataframe tbody tr th:only-of-type {\n",
              "        vertical-align: middle;\n",
              "    }\n",
              "\n",
              "    .dataframe tbody tr th {\n",
              "        vertical-align: top;\n",
              "    }\n",
              "\n",
              "    .dataframe thead th {\n",
              "        text-align: right;\n",
              "    }\n",
              "</style>\n",
              "<table border=\"1\" class=\"dataframe\">\n",
              "  <thead>\n",
              "    <tr style=\"text-align: right;\">\n",
              "      <th></th>\n",
              "      <th>LCLid</th>\n",
              "      <th>energy(kWh/hh)</th>\n",
              "      <th>isNA</th>\n",
              "      <th>year</th>\n",
              "      <th>month</th>\n",
              "      <th>day</th>\n",
              "      <th>hour</th>\n",
              "      <th>minute</th>\n",
              "      <th>second</th>\n",
              "      <th>dayNumber</th>\n",
              "      <th>unixTimeStamp</th>\n",
              "      <th>weekend</th>\n",
              "      <th>dayString</th>\n",
              "    </tr>\n",
              "  </thead>\n",
              "  <tbody>\n",
              "    <tr>\n",
              "      <th>0</th>\n",
              "      <td>MAC000002</td>\n",
              "      <td>0</td>\n",
              "      <td>0</td>\n",
              "      <td>2012</td>\n",
              "      <td>10</td>\n",
              "      <td>12</td>\n",
              "      <td>0</td>\n",
              "      <td>30</td>\n",
              "      <td>0</td>\n",
              "      <td>4</td>\n",
              "      <td>1350001800</td>\n",
              "      <td>0</td>\n",
              "      <td>2012-10-12</td>\n",
              "    </tr>\n",
              "    <tr>\n",
              "      <th>1</th>\n",
              "      <td>MAC000002</td>\n",
              "      <td>0</td>\n",
              "      <td>0</td>\n",
              "      <td>2012</td>\n",
              "      <td>10</td>\n",
              "      <td>12</td>\n",
              "      <td>1</td>\n",
              "      <td>0</td>\n",
              "      <td>0</td>\n",
              "      <td>4</td>\n",
              "      <td>1350003600</td>\n",
              "      <td>0</td>\n",
              "      <td>2012-10-12</td>\n",
              "    </tr>\n",
              "    <tr>\n",
              "      <th>2</th>\n",
              "      <td>MAC000002</td>\n",
              "      <td>0</td>\n",
              "      <td>0</td>\n",
              "      <td>2012</td>\n",
              "      <td>10</td>\n",
              "      <td>12</td>\n",
              "      <td>1</td>\n",
              "      <td>30</td>\n",
              "      <td>0</td>\n",
              "      <td>4</td>\n",
              "      <td>1350005400</td>\n",
              "      <td>0</td>\n",
              "      <td>2012-10-12</td>\n",
              "    </tr>\n",
              "    <tr>\n",
              "      <th>3</th>\n",
              "      <td>MAC000002</td>\n",
              "      <td>0</td>\n",
              "      <td>0</td>\n",
              "      <td>2012</td>\n",
              "      <td>10</td>\n",
              "      <td>12</td>\n",
              "      <td>2</td>\n",
              "      <td>0</td>\n",
              "      <td>0</td>\n",
              "      <td>4</td>\n",
              "      <td>1350007200</td>\n",
              "      <td>0</td>\n",
              "      <td>2012-10-12</td>\n",
              "    </tr>\n",
              "    <tr>\n",
              "      <th>4</th>\n",
              "      <td>MAC000002</td>\n",
              "      <td>0</td>\n",
              "      <td>0</td>\n",
              "      <td>2012</td>\n",
              "      <td>10</td>\n",
              "      <td>12</td>\n",
              "      <td>2</td>\n",
              "      <td>30</td>\n",
              "      <td>0</td>\n",
              "      <td>4</td>\n",
              "      <td>1350009000</td>\n",
              "      <td>0</td>\n",
              "      <td>2012-10-12</td>\n",
              "    </tr>\n",
              "  </tbody>\n",
              "</table>\n",
              "</div>"
            ],
            "text/plain": [
              "       LCLid energy(kWh/hh)  isNA  year  month  day  hour  minute  second  \\\n",
              "0  MAC000002             0      0  2012     10   12     0      30       0   \n",
              "1  MAC000002             0      0  2012     10   12     1       0       0   \n",
              "2  MAC000002             0      0  2012     10   12     1      30       0   \n",
              "3  MAC000002             0      0  2012     10   12     2       0       0   \n",
              "4  MAC000002             0      0  2012     10   12     2      30       0   \n",
              "\n",
              "   dayNumber  unixTimeStamp  weekend   dayString  \n",
              "0          4     1350001800        0  2012-10-12  \n",
              "1          4     1350003600        0  2012-10-12  \n",
              "2          4     1350005400        0  2012-10-12  \n",
              "3          4     1350007200        0  2012-10-12  \n",
              "4          4     1350009000        0  2012-10-12  "
            ]
          },
          "execution_count": 10,
          "metadata": {},
          "output_type": "execute_result"
        }
      ],
      "source": [
        "londonData['dayString'] = londonData['year'].astype(str) + \"-\" + londonData['month'].astype(str) + \"-\" + londonData['day'].astype(str)\n",
        "londonData.head()"
      ]
    },
    {
      "cell_type": "code",
      "execution_count": 11,
      "metadata": {},
      "outputs": [
        {
          "data": {
            "text/plain": [
              "(167817021, 13)"
            ]
          },
          "execution_count": 11,
          "metadata": {},
          "output_type": "execute_result"
        }
      ],
      "source": [
        "londonData.shape"
      ]
    },
    {
      "cell_type": "code",
      "execution_count": 12,
      "metadata": {},
      "outputs": [
        {
          "data": {
            "text/html": [
              "<div>\n",
              "<style scoped>\n",
              "    .dataframe tbody tr th:only-of-type {\n",
              "        vertical-align: middle;\n",
              "    }\n",
              "\n",
              "    .dataframe tbody tr th {\n",
              "        vertical-align: top;\n",
              "    }\n",
              "\n",
              "    .dataframe thead th {\n",
              "        text-align: right;\n",
              "    }\n",
              "</style>\n",
              "<table border=\"1\" class=\"dataframe\">\n",
              "  <thead>\n",
              "    <tr style=\"text-align: right;\">\n",
              "      <th></th>\n",
              "      <th>day</th>\n",
              "      <th>LCLid</th>\n",
              "    </tr>\n",
              "  </thead>\n",
              "  <tbody>\n",
              "    <tr>\n",
              "      <th>0</th>\n",
              "      <td>2011-12-03</td>\n",
              "      <td>110</td>\n",
              "    </tr>\n",
              "    <tr>\n",
              "      <th>1</th>\n",
              "      <td>2011-12-04</td>\n",
              "      <td>110</td>\n",
              "    </tr>\n",
              "    <tr>\n",
              "      <th>2</th>\n",
              "      <td>2011-12-05</td>\n",
              "      <td>126</td>\n",
              "    </tr>\n",
              "    <tr>\n",
              "      <th>3</th>\n",
              "      <td>2011-12-06</td>\n",
              "      <td>132</td>\n",
              "    </tr>\n",
              "    <tr>\n",
              "      <th>4</th>\n",
              "      <td>2011-12-07</td>\n",
              "      <td>152</td>\n",
              "    </tr>\n",
              "  </tbody>\n",
              "</table>\n",
              "</div>"
            ],
            "text/plain": [
              "          day  LCLid\n",
              "0  2011-12-03    110\n",
              "1  2011-12-04    110\n",
              "2  2011-12-05    126\n",
              "3  2011-12-06    132\n",
              "4  2011-12-07    152"
            ]
          },
          "execution_count": 12,
          "metadata": {},
          "output_type": "execute_result"
        }
      ],
      "source": [
        "##############################\n",
        "# This takes about 2 minutes #\n",
        "##############################\n",
        "\n",
        "allDays = pd.read_csv(\"allDays.csv\")\n",
        "allDays.head()"
      ]
    },
    {
      "cell_type": "code",
      "execution_count": 13,
      "metadata": {},
      "outputs": [],
      "source": [
        "##############################\n",
        "# This takes about 4 minutes #\n",
        "##############################\n",
        "\n",
        "import pandas as pd\n",
        "\n",
        "# Merge the two dataframes on the \"day\" and \"LCLid\" columns\n",
        "merged_data = londonData.merge(allDays, left_on='dayString', right_on='day', how='left')\n",
        "\n",
        "# Rename the merged columns\n",
        "merged_data.rename(columns={'LCLid_y': 'CServed', 'LCLid_x': 'id', 'day_x': 'day'}, inplace=True)"
      ]
    },
    {
      "cell_type": "code",
      "execution_count": 14,
      "metadata": {},
      "outputs": [
        {
          "data": {
            "text/html": [
              "<div>\n",
              "<style scoped>\n",
              "    .dataframe tbody tr th:only-of-type {\n",
              "        vertical-align: middle;\n",
              "    }\n",
              "\n",
              "    .dataframe tbody tr th {\n",
              "        vertical-align: top;\n",
              "    }\n",
              "\n",
              "    .dataframe thead th {\n",
              "        text-align: right;\n",
              "    }\n",
              "</style>\n",
              "<table border=\"1\" class=\"dataframe\">\n",
              "  <thead>\n",
              "    <tr style=\"text-align: right;\">\n",
              "      <th></th>\n",
              "      <th>id</th>\n",
              "      <th>energy(kWh/hh)</th>\n",
              "      <th>isNA</th>\n",
              "      <th>year</th>\n",
              "      <th>month</th>\n",
              "      <th>day</th>\n",
              "      <th>hour</th>\n",
              "      <th>minute</th>\n",
              "      <th>second</th>\n",
              "      <th>dayNumber</th>\n",
              "      <th>unixTimeStamp</th>\n",
              "      <th>weekend</th>\n",
              "      <th>dayString</th>\n",
              "      <th>day_y</th>\n",
              "      <th>CServed</th>\n",
              "    </tr>\n",
              "  </thead>\n",
              "  <tbody>\n",
              "    <tr>\n",
              "      <th>0</th>\n",
              "      <td>MAC000002</td>\n",
              "      <td>0</td>\n",
              "      <td>0</td>\n",
              "      <td>2012</td>\n",
              "      <td>10</td>\n",
              "      <td>12</td>\n",
              "      <td>0</td>\n",
              "      <td>30</td>\n",
              "      <td>0</td>\n",
              "      <td>4</td>\n",
              "      <td>1350001800</td>\n",
              "      <td>0</td>\n",
              "      <td>2012-10-12</td>\n",
              "      <td>2012-10-12</td>\n",
              "      <td>5261.0</td>\n",
              "    </tr>\n",
              "    <tr>\n",
              "      <th>1</th>\n",
              "      <td>MAC000002</td>\n",
              "      <td>0</td>\n",
              "      <td>0</td>\n",
              "      <td>2012</td>\n",
              "      <td>10</td>\n",
              "      <td>12</td>\n",
              "      <td>1</td>\n",
              "      <td>0</td>\n",
              "      <td>0</td>\n",
              "      <td>4</td>\n",
              "      <td>1350003600</td>\n",
              "      <td>0</td>\n",
              "      <td>2012-10-12</td>\n",
              "      <td>2012-10-12</td>\n",
              "      <td>5261.0</td>\n",
              "    </tr>\n",
              "    <tr>\n",
              "      <th>2</th>\n",
              "      <td>MAC000002</td>\n",
              "      <td>0</td>\n",
              "      <td>0</td>\n",
              "      <td>2012</td>\n",
              "      <td>10</td>\n",
              "      <td>12</td>\n",
              "      <td>1</td>\n",
              "      <td>30</td>\n",
              "      <td>0</td>\n",
              "      <td>4</td>\n",
              "      <td>1350005400</td>\n",
              "      <td>0</td>\n",
              "      <td>2012-10-12</td>\n",
              "      <td>2012-10-12</td>\n",
              "      <td>5261.0</td>\n",
              "    </tr>\n",
              "    <tr>\n",
              "      <th>3</th>\n",
              "      <td>MAC000002</td>\n",
              "      <td>0</td>\n",
              "      <td>0</td>\n",
              "      <td>2012</td>\n",
              "      <td>10</td>\n",
              "      <td>12</td>\n",
              "      <td>2</td>\n",
              "      <td>0</td>\n",
              "      <td>0</td>\n",
              "      <td>4</td>\n",
              "      <td>1350007200</td>\n",
              "      <td>0</td>\n",
              "      <td>2012-10-12</td>\n",
              "      <td>2012-10-12</td>\n",
              "      <td>5261.0</td>\n",
              "    </tr>\n",
              "    <tr>\n",
              "      <th>4</th>\n",
              "      <td>MAC000002</td>\n",
              "      <td>0</td>\n",
              "      <td>0</td>\n",
              "      <td>2012</td>\n",
              "      <td>10</td>\n",
              "      <td>12</td>\n",
              "      <td>2</td>\n",
              "      <td>30</td>\n",
              "      <td>0</td>\n",
              "      <td>4</td>\n",
              "      <td>1350009000</td>\n",
              "      <td>0</td>\n",
              "      <td>2012-10-12</td>\n",
              "      <td>2012-10-12</td>\n",
              "      <td>5261.0</td>\n",
              "    </tr>\n",
              "  </tbody>\n",
              "</table>\n",
              "</div>"
            ],
            "text/plain": [
              "          id energy(kWh/hh)  isNA  year  month  day  hour  minute  second  \\\n",
              "0  MAC000002             0      0  2012     10   12     0      30       0   \n",
              "1  MAC000002             0      0  2012     10   12     1       0       0   \n",
              "2  MAC000002             0      0  2012     10   12     1      30       0   \n",
              "3  MAC000002             0      0  2012     10   12     2       0       0   \n",
              "4  MAC000002             0      0  2012     10   12     2      30       0   \n",
              "\n",
              "   dayNumber  unixTimeStamp  weekend   dayString       day_y  CServed  \n",
              "0          4     1350001800        0  2012-10-12  2012-10-12   5261.0  \n",
              "1          4     1350003600        0  2012-10-12  2012-10-12   5261.0  \n",
              "2          4     1350005400        0  2012-10-12  2012-10-12   5261.0  \n",
              "3          4     1350007200        0  2012-10-12  2012-10-12   5261.0  \n",
              "4          4     1350009000        0  2012-10-12  2012-10-12   5261.0  "
            ]
          },
          "execution_count": 14,
          "metadata": {},
          "output_type": "execute_result"
        }
      ],
      "source": [
        "merged_data.head()"
      ]
    },
    {
      "cell_type": "code",
      "execution_count": 15,
      "metadata": {},
      "outputs": [
        {
          "data": {
            "text/html": [
              "<div>\n",
              "<style scoped>\n",
              "    .dataframe tbody tr th:only-of-type {\n",
              "        vertical-align: middle;\n",
              "    }\n",
              "\n",
              "    .dataframe tbody tr th {\n",
              "        vertical-align: top;\n",
              "    }\n",
              "\n",
              "    .dataframe thead th {\n",
              "        text-align: right;\n",
              "    }\n",
              "</style>\n",
              "<table border=\"1\" class=\"dataframe\">\n",
              "  <thead>\n",
              "    <tr style=\"text-align: right;\">\n",
              "      <th></th>\n",
              "      <th>id</th>\n",
              "      <th>energy(kWh/hh)</th>\n",
              "      <th>isNA</th>\n",
              "      <th>year</th>\n",
              "      <th>month</th>\n",
              "      <th>day</th>\n",
              "      <th>hour</th>\n",
              "      <th>minute</th>\n",
              "      <th>second</th>\n",
              "      <th>dayNumber</th>\n",
              "      <th>unixTimeStamp</th>\n",
              "      <th>weekend</th>\n",
              "      <th>CServed</th>\n",
              "    </tr>\n",
              "  </thead>\n",
              "  <tbody>\n",
              "    <tr>\n",
              "      <th>0</th>\n",
              "      <td>MAC000002</td>\n",
              "      <td>0</td>\n",
              "      <td>0</td>\n",
              "      <td>2012</td>\n",
              "      <td>10</td>\n",
              "      <td>12</td>\n",
              "      <td>0</td>\n",
              "      <td>30</td>\n",
              "      <td>0</td>\n",
              "      <td>4</td>\n",
              "      <td>1350001800</td>\n",
              "      <td>0</td>\n",
              "      <td>5261.0</td>\n",
              "    </tr>\n",
              "    <tr>\n",
              "      <th>1</th>\n",
              "      <td>MAC000002</td>\n",
              "      <td>0</td>\n",
              "      <td>0</td>\n",
              "      <td>2012</td>\n",
              "      <td>10</td>\n",
              "      <td>12</td>\n",
              "      <td>1</td>\n",
              "      <td>0</td>\n",
              "      <td>0</td>\n",
              "      <td>4</td>\n",
              "      <td>1350003600</td>\n",
              "      <td>0</td>\n",
              "      <td>5261.0</td>\n",
              "    </tr>\n",
              "    <tr>\n",
              "      <th>2</th>\n",
              "      <td>MAC000002</td>\n",
              "      <td>0</td>\n",
              "      <td>0</td>\n",
              "      <td>2012</td>\n",
              "      <td>10</td>\n",
              "      <td>12</td>\n",
              "      <td>1</td>\n",
              "      <td>30</td>\n",
              "      <td>0</td>\n",
              "      <td>4</td>\n",
              "      <td>1350005400</td>\n",
              "      <td>0</td>\n",
              "      <td>5261.0</td>\n",
              "    </tr>\n",
              "    <tr>\n",
              "      <th>3</th>\n",
              "      <td>MAC000002</td>\n",
              "      <td>0</td>\n",
              "      <td>0</td>\n",
              "      <td>2012</td>\n",
              "      <td>10</td>\n",
              "      <td>12</td>\n",
              "      <td>2</td>\n",
              "      <td>0</td>\n",
              "      <td>0</td>\n",
              "      <td>4</td>\n",
              "      <td>1350007200</td>\n",
              "      <td>0</td>\n",
              "      <td>5261.0</td>\n",
              "    </tr>\n",
              "    <tr>\n",
              "      <th>4</th>\n",
              "      <td>MAC000002</td>\n",
              "      <td>0</td>\n",
              "      <td>0</td>\n",
              "      <td>2012</td>\n",
              "      <td>10</td>\n",
              "      <td>12</td>\n",
              "      <td>2</td>\n",
              "      <td>30</td>\n",
              "      <td>0</td>\n",
              "      <td>4</td>\n",
              "      <td>1350009000</td>\n",
              "      <td>0</td>\n",
              "      <td>5261.0</td>\n",
              "    </tr>\n",
              "  </tbody>\n",
              "</table>\n",
              "</div>"
            ],
            "text/plain": [
              "          id energy(kWh/hh)  isNA  year  month  day  hour  minute  second  \\\n",
              "0  MAC000002             0      0  2012     10   12     0      30       0   \n",
              "1  MAC000002             0      0  2012     10   12     1       0       0   \n",
              "2  MAC000002             0      0  2012     10   12     1      30       0   \n",
              "3  MAC000002             0      0  2012     10   12     2       0       0   \n",
              "4  MAC000002             0      0  2012     10   12     2      30       0   \n",
              "\n",
              "   dayNumber  unixTimeStamp  weekend  CServed  \n",
              "0          4     1350001800        0   5261.0  \n",
              "1          4     1350003600        0   5261.0  \n",
              "2          4     1350005400        0   5261.0  \n",
              "3          4     1350007200        0   5261.0  \n",
              "4          4     1350009000        0   5261.0  "
            ]
          },
          "execution_count": 15,
          "metadata": {},
          "output_type": "execute_result"
        }
      ],
      "source": [
        "# Drop the extra columns\n",
        "merged_data.drop(columns=['dayString', \"day_y\"], inplace=True)\n",
        "londonData = merged_data\n",
        "londonData.head()"
      ]
    },
    {
      "cell_type": "code",
      "execution_count": 16,
      "metadata": {},
      "outputs": [],
      "source": [
        "# Save\n",
        "\n",
        "londonData.head()\n",
        "path = \"Data/pickles/\"\n",
        "londonData.to_pickle(path + \"londonData2.pkl\")"
      ]
    },
    {
      "cell_type": "markdown",
      "metadata": {},
      "source": [
        "# ==== SAVE AND LOAD ====\n",
        "I decided to save the data as a pkl here so that I could just run the cells below this point."
      ]
    },
    {
      "cell_type": "code",
      "execution_count": 1,
      "metadata": {},
      "outputs": [],
      "source": [
        "# Load\n",
        "\n",
        "import pandas as pd\n",
        "path = \"Data/pickles/\"\n",
        "londonData = pd.read_pickle(path + \"londonData2.pkl\")"
      ]
    },
    {
      "cell_type": "code",
      "execution_count": 2,
      "metadata": {},
      "outputs": [
        {
          "data": {
            "text/html": [
              "<div>\n",
              "<style scoped>\n",
              "    .dataframe tbody tr th:only-of-type {\n",
              "        vertical-align: middle;\n",
              "    }\n",
              "\n",
              "    .dataframe tbody tr th {\n",
              "        vertical-align: top;\n",
              "    }\n",
              "\n",
              "    .dataframe thead th {\n",
              "        text-align: right;\n",
              "    }\n",
              "</style>\n",
              "<table border=\"1\" class=\"dataframe\">\n",
              "  <thead>\n",
              "    <tr style=\"text-align: right;\">\n",
              "      <th></th>\n",
              "      <th>id</th>\n",
              "      <th>energy(kWh/hh)</th>\n",
              "      <th>isNA</th>\n",
              "      <th>year</th>\n",
              "      <th>month</th>\n",
              "      <th>day</th>\n",
              "      <th>hour</th>\n",
              "      <th>minute</th>\n",
              "      <th>second</th>\n",
              "      <th>dayNumber</th>\n",
              "      <th>unixTimeStamp</th>\n",
              "      <th>weekend</th>\n",
              "      <th>CServed</th>\n",
              "    </tr>\n",
              "  </thead>\n",
              "  <tbody>\n",
              "    <tr>\n",
              "      <th>0</th>\n",
              "      <td>MAC000002</td>\n",
              "      <td>0</td>\n",
              "      <td>0</td>\n",
              "      <td>2012</td>\n",
              "      <td>10</td>\n",
              "      <td>12</td>\n",
              "      <td>0</td>\n",
              "      <td>30</td>\n",
              "      <td>0</td>\n",
              "      <td>4</td>\n",
              "      <td>1350001800</td>\n",
              "      <td>0</td>\n",
              "      <td>5261.0</td>\n",
              "    </tr>\n",
              "    <tr>\n",
              "      <th>1</th>\n",
              "      <td>MAC000002</td>\n",
              "      <td>0</td>\n",
              "      <td>0</td>\n",
              "      <td>2012</td>\n",
              "      <td>10</td>\n",
              "      <td>12</td>\n",
              "      <td>1</td>\n",
              "      <td>0</td>\n",
              "      <td>0</td>\n",
              "      <td>4</td>\n",
              "      <td>1350003600</td>\n",
              "      <td>0</td>\n",
              "      <td>5261.0</td>\n",
              "    </tr>\n",
              "    <tr>\n",
              "      <th>2</th>\n",
              "      <td>MAC000002</td>\n",
              "      <td>0</td>\n",
              "      <td>0</td>\n",
              "      <td>2012</td>\n",
              "      <td>10</td>\n",
              "      <td>12</td>\n",
              "      <td>1</td>\n",
              "      <td>30</td>\n",
              "      <td>0</td>\n",
              "      <td>4</td>\n",
              "      <td>1350005400</td>\n",
              "      <td>0</td>\n",
              "      <td>5261.0</td>\n",
              "    </tr>\n",
              "    <tr>\n",
              "      <th>3</th>\n",
              "      <td>MAC000002</td>\n",
              "      <td>0</td>\n",
              "      <td>0</td>\n",
              "      <td>2012</td>\n",
              "      <td>10</td>\n",
              "      <td>12</td>\n",
              "      <td>2</td>\n",
              "      <td>0</td>\n",
              "      <td>0</td>\n",
              "      <td>4</td>\n",
              "      <td>1350007200</td>\n",
              "      <td>0</td>\n",
              "      <td>5261.0</td>\n",
              "    </tr>\n",
              "    <tr>\n",
              "      <th>4</th>\n",
              "      <td>MAC000002</td>\n",
              "      <td>0</td>\n",
              "      <td>0</td>\n",
              "      <td>2012</td>\n",
              "      <td>10</td>\n",
              "      <td>12</td>\n",
              "      <td>2</td>\n",
              "      <td>30</td>\n",
              "      <td>0</td>\n",
              "      <td>4</td>\n",
              "      <td>1350009000</td>\n",
              "      <td>0</td>\n",
              "      <td>5261.0</td>\n",
              "    </tr>\n",
              "  </tbody>\n",
              "</table>\n",
              "</div>"
            ],
            "text/plain": [
              "          id energy(kWh/hh)  isNA  year  month  day  hour  minute  second  \\\n",
              "0  MAC000002             0      0  2012     10   12     0      30       0   \n",
              "1  MAC000002             0      0  2012     10   12     1       0       0   \n",
              "2  MAC000002             0      0  2012     10   12     1      30       0   \n",
              "3  MAC000002             0      0  2012     10   12     2       0       0   \n",
              "4  MAC000002             0      0  2012     10   12     2      30       0   \n",
              "\n",
              "   dayNumber  unixTimeStamp  weekend  CServed  \n",
              "0          4     1350001800        0   5261.0  \n",
              "1          4     1350003600        0   5261.0  \n",
              "2          4     1350005400        0   5261.0  \n",
              "3          4     1350007200        0   5261.0  \n",
              "4          4     1350009000        0   5261.0  "
            ]
          },
          "execution_count": 2,
          "metadata": {},
          "output_type": "execute_result"
        }
      ],
      "source": [
        "londonData.head()"
      ]
    },
    {
      "cell_type": "markdown",
      "metadata": {},
      "source": [
        "### Dip in customers? - Could be a sign of an outage - 0 for no dip, 1 for dip"
      ]
    },
    {
      "cell_type": "code",
      "execution_count": null,
      "metadata": {},
      "outputs": [],
      "source": []
    },
    {
      "cell_type": "markdown",
      "metadata": {},
      "source": [
        "### Blackout signature - mark hours before 0 power as signature days?"
      ]
    },
    {
      "cell_type": "code",
      "execution_count": null,
      "metadata": {},
      "outputs": [],
      "source": []
    },
    {
      "cell_type": "markdown",
      "metadata": {},
      "source": [
        "### Weather Features - add later to see if improves"
      ]
    },
    {
      "cell_type": "code",
      "execution_count": null,
      "metadata": {},
      "outputs": [],
      "source": []
    },
    {
      "cell_type": "markdown",
      "metadata": {
        "id": "MeOO_tCzu59Z"
      },
      "source": [
        "## Visualize the features"
      ]
    },
    {
      "cell_type": "code",
      "execution_count": null,
      "metadata": {},
      "outputs": [],
      "source": []
    },
    {
      "cell_type": "markdown",
      "metadata": {
        "id": "EPW13lhkwlS6"
      },
      "source": [
        "## Fix the data imbalance"
      ]
    },
    {
      "cell_type": "code",
      "execution_count": null,
      "metadata": {
        "id": "y2sciOk5yIA5"
      },
      "outputs": [],
      "source": []
    },
    {
      "cell_type": "markdown",
      "metadata": {
        "id": "cNaZexBKwrWx"
      },
      "source": [
        "## Seperate features (x) from labels (y)"
      ]
    },
    {
      "cell_type": "code",
      "execution_count": null,
      "metadata": {
        "id": "1mhjJgSGyHUB"
      },
      "outputs": [],
      "source": []
    },
    {
      "cell_type": "markdown",
      "metadata": {
        "id": "ijBd2InWw2BN"
      },
      "source": [
        "## Feature Reduction"
      ]
    },
    {
      "cell_type": "code",
      "execution_count": null,
      "metadata": {
        "id": "b__jQ5YJyE_G"
      },
      "outputs": [],
      "source": []
    },
    {
      "cell_type": "markdown",
      "metadata": {
        "id": "gBO67tBlw8Ss"
      },
      "source": [
        "## Normalize / Scale the Data"
      ]
    },
    {
      "cell_type": "code",
      "execution_count": null,
      "metadata": {
        "id": "g0NQS2PLyEeH"
      },
      "outputs": [],
      "source": []
    },
    {
      "cell_type": "markdown",
      "metadata": {
        "id": "Lq06YLwyxBor"
      },
      "source": [
        "## Investigate Variance or Feature Importance"
      ]
    },
    {
      "cell_type": "code",
      "execution_count": null,
      "metadata": {
        "id": "RX9AJBYQyD3l"
      },
      "outputs": [],
      "source": []
    },
    {
      "cell_type": "markdown",
      "metadata": {
        "id": "gq8yldaFxbq-"
      },
      "source": [
        "# STEP 3: MODEL TRAINING & BUILDING\n"
      ]
    },
    {
      "cell_type": "code",
      "execution_count": null,
      "metadata": {
        "id": "khN89Pe7xiN4"
      },
      "outputs": [],
      "source": []
    },
    {
      "cell_type": "markdown",
      "metadata": {
        "id": "Hh8N0_yGxi66"
      },
      "source": [
        "## Split into Train and Test data"
      ]
    },
    {
      "cell_type": "code",
      "execution_count": null,
      "metadata": {
        "id": "pAWwUcSEyCk0"
      },
      "outputs": [],
      "source": []
    },
    {
      "cell_type": "markdown",
      "metadata": {
        "id": "iXKSCFoRxumo"
      },
      "source": [
        "## Use a Model"
      ]
    },
    {
      "cell_type": "code",
      "execution_count": null,
      "metadata": {
        "id": "QpDhyjwNyCDm"
      },
      "outputs": [],
      "source": []
    },
    {
      "cell_type": "markdown",
      "metadata": {
        "id": "O4SGGaDWxz9X"
      },
      "source": [
        "## Perform a Hyperparameter Search"
      ]
    },
    {
      "cell_type": "code",
      "execution_count": null,
      "metadata": {
        "id": "qckGo2oRyAML"
      },
      "outputs": [],
      "source": []
    },
    {
      "cell_type": "markdown",
      "metadata": {
        "id": "1bap9XXTynZZ"
      },
      "source": [
        "## Save the best model"
      ]
    },
    {
      "cell_type": "code",
      "execution_count": null,
      "metadata": {
        "id": "85oE97gyyve_"
      },
      "outputs": [],
      "source": []
    },
    {
      "cell_type": "markdown",
      "metadata": {
        "id": "ZCNgUErzyQ54"
      },
      "source": [
        "# STEP 4: EVALUATE THE MODEL"
      ]
    },
    {
      "cell_type": "markdown",
      "metadata": {
        "id": "FwZk0r8ry-Hu"
      },
      "source": [
        "## Look at Metrics - Ex) Precision, Recall, F1 score"
      ]
    },
    {
      "cell_type": "code",
      "execution_count": null,
      "metadata": {
        "id": "PS9-fA9uzNxF"
      },
      "outputs": [],
      "source": []
    },
    {
      "cell_type": "markdown",
      "metadata": {
        "id": "FftWhxZ0ycNr"
      },
      "source": [
        "## Plot a Confusion Matrix"
      ]
    },
    {
      "cell_type": "code",
      "execution_count": null,
      "metadata": {
        "id": "G-A8xydGywLa"
      },
      "outputs": [],
      "source": []
    },
    {
      "cell_type": "markdown",
      "metadata": {
        "id": "jg77bvA51bzL"
      },
      "source": [
        "# STEP 5: DEPLOY MODEL"
      ]
    },
    {
      "cell_type": "code",
      "execution_count": null,
      "metadata": {
        "id": "Xq1wWTmo2Xfl"
      },
      "outputs": [],
      "source": []
    }
  ],
  "metadata": {
    "colab": {
      "authorship_tag": "ABX9TyPS3qGwBFpq6ihHfebWnMek",
      "include_colab_link": true,
      "provenance": [],
      "toc_visible": true
    },
    "kernelspec": {
      "display_name": "Python 3",
      "name": "python3"
    },
    "language_info": {
      "codemirror_mode": {
        "name": "ipython",
        "version": 3
      },
      "file_extension": ".py",
      "mimetype": "text/x-python",
      "name": "python",
      "nbconvert_exporter": "python",
      "pygments_lexer": "ipython3",
      "version": "3.10.9"
    }
  },
  "nbformat": 4,
  "nbformat_minor": 0
}

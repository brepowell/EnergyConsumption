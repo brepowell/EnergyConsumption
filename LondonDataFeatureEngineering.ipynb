{
  "cells": [
    {
      "cell_type": "markdown",
      "metadata": {
        "colab_type": "text",
        "id": "view-in-github"
      },
      "source": [
        "<a href=\"https://colab.research.google.com/github/brepowell/ML-Contest-Series/blob/main/MLSeriesSupervisedLearningTemplate.ipynb\" target=\"_parent\"><img src=\"https://colab.research.google.com/assets/colab-badge.svg\" alt=\"Open In Colab\"/></a>"
      ]
    },
    {
      "cell_type": "markdown",
      "metadata": {
        "id": "FM6YqhcasT5w"
      },
      "source": [
        "# To run:\n",
        "Use an IDE that will allow you to open a Jupyter Notebook.\n",
        "\n",
        "For example, use Anaconda Navigator to open Visual Studio Code.\n",
        "\n",
        "You may need to select a kernel to run the program."
      ]
    },
    {
      "cell_type": "markdown",
      "metadata": {
        "id": "mA7frvLc7vtj"
      },
      "source": [
        "## Import Libraries"
      ]
    },
    {
      "cell_type": "code",
      "execution_count": 17,
      "metadata": {
        "id": "MHcOyHzp7x5l"
      },
      "outputs": [],
      "source": [
        "# This step can be done in any cell of the notebook. It does not have to be at the top.\n",
        "import pandas as pd"
      ]
    },
    {
      "cell_type": "markdown",
      "metadata": {},
      "source": [
        "## Data Information"
      ]
    },
    {
      "cell_type": "markdown",
      "metadata": {},
      "source": [
        "From:\n",
        "https://data.london.gov.uk/dataset/smartmeter-energy-use-data-in-london-households\n",
        "\n",
        "More Info:\n",
        "https://innovation.ukpowernetworks.co.uk/projects/low-carbon-london\n",
        "\n",
        "\"Created 9 years ago, updated 2 years ago\n",
        "Energy consumption readings for a sample of 5,567 London Households that took part in the UK Power Networks led Low Carbon London project between November 2011 and February 2014.\n",
        "\n",
        "Readings were taken at half hourly intervals. The customers in the trial were recruited as a balanced sample representative of the Greater London population.\n",
        "\n",
        "The dataset contains energy consumption, in kWh (per half hour), unique household identifier, date and time. The CSV file is around 10GB when unzipped and contains around 167million rows.\n",
        "\n",
        "Within the data set are two groups of customers. The first is a sub-group, of approximately 1100 customers, who were subjected to Dynamic Time of Use (dToU) energy prices throughout the 2013 calendar year period. The tariff prices were given a day ahead via the Smart Meter IHD (In Home Display) or text message to mobile phone. Customers were issued High (67.20p/kWh), Low (3.99p/kWh) or normal (11.76p/kWh) price signals and the times of day these applied. The dates/times and the price signal schedule is availaible as part of this dataset. All non-Time of Use customers were on a flat rate tariff of 14.228pence/kWh.\n",
        "\n",
        "The signals given were designed to be representative of the types of signal that may be used in the future to manage both high renewable generation (supply following) operation and also test the potential to use high price signals to reduce stress on local distribution grids during periods of stress.\n",
        "\n",
        "The remaining sample of approximately 4500 customers energy consumption readings were not subject to the dToU tariff.\"\n"
      ]
    },
    {
      "cell_type": "markdown",
      "metadata": {},
      "source": [
        "## Create a huge dataframe with all hourly info"
      ]
    },
    {
      "cell_type": "code",
      "execution_count": 18,
      "metadata": {},
      "outputs": [
        {
          "name": "stderr",
          "output_type": "stream",
          "text": [
            "C:\\Users\\brely\\AppData\\Local\\Temp\\ipykernel_39724\\774332354.py:11: DtypeWarning: Columns (2) have mixed types. Specify dtype option on import or set low_memory=False.\n",
            "  df = pd.read_csv(filename)\n",
            "C:\\Users\\brely\\AppData\\Local\\Temp\\ipykernel_39724\\774332354.py:11: DtypeWarning: Columns (2) have mixed types. Specify dtype option on import or set low_memory=False.\n",
            "  df = pd.read_csv(filename)\n",
            "C:\\Users\\brely\\AppData\\Local\\Temp\\ipykernel_39724\\774332354.py:11: DtypeWarning: Columns (2) have mixed types. Specify dtype option on import or set low_memory=False.\n",
            "  df = pd.read_csv(filename)\n",
            "C:\\Users\\brely\\AppData\\Local\\Temp\\ipykernel_39724\\774332354.py:11: DtypeWarning: Columns (2) have mixed types. Specify dtype option on import or set low_memory=False.\n",
            "  df = pd.read_csv(filename)\n",
            "C:\\Users\\brely\\AppData\\Local\\Temp\\ipykernel_39724\\774332354.py:11: DtypeWarning: Columns (2) have mixed types. Specify dtype option on import or set low_memory=False.\n",
            "  df = pd.read_csv(filename)\n",
            "C:\\Users\\brely\\AppData\\Local\\Temp\\ipykernel_39724\\774332354.py:11: DtypeWarning: Columns (2) have mixed types. Specify dtype option on import or set low_memory=False.\n",
            "  df = pd.read_csv(filename)\n",
            "C:\\Users\\brely\\AppData\\Local\\Temp\\ipykernel_39724\\774332354.py:11: DtypeWarning: Columns (2) have mixed types. Specify dtype option on import or set low_memory=False.\n",
            "  df = pd.read_csv(filename)\n",
            "C:\\Users\\brely\\AppData\\Local\\Temp\\ipykernel_39724\\774332354.py:11: DtypeWarning: Columns (2) have mixed types. Specify dtype option on import or set low_memory=False.\n",
            "  df = pd.read_csv(filename)\n"
          ]
        },
        {
          "data": {
            "text/plain": [
              "(167817021, 3)"
            ]
          },
          "execution_count": 18,
          "metadata": {},
          "output_type": "execute_result"
        }
      ],
      "source": [
        "import pandas as pd\n",
        "import glob\n",
        "\n",
        "def readAllHourlyData():\n",
        "    # Read all CSV files and concatenate them into a single DataFrame\n",
        "    path = \"data/archive/halfhourly_dataset/halfhourly_dataset/\" \n",
        "\n",
        "    all_files = glob.glob(path + \"block_*.csv\")\n",
        "    df_list = []\n",
        "    for filename in all_files:\n",
        "        df = pd.read_csv(filename)\n",
        "        df_list.append(df)\n",
        "    full_df = pd.concat(df_list)\n",
        "\n",
        "    return full_df\n",
        "\n",
        "londonData = readAllHourlyData()\n",
        "londonData.shape"
      ]
    },
    {
      "cell_type": "markdown",
      "metadata": {},
      "source": [
        "## Select Features"
      ]
    },
    {
      "cell_type": "code",
      "execution_count": 19,
      "metadata": {},
      "outputs": [],
      "source": [
        "# What features do I want?\n",
        "# Blackout signature - mark hours before 0 power as signature days?\n",
        "# How many customers were represented on that day?\n",
        "# \n",
        "# Weather Features"
      ]
    },
    {
      "cell_type": "markdown",
      "metadata": {
        "id": "MeOO_tCzu59Z"
      },
      "source": [
        "## Visualize the features"
      ]
    },
    {
      "cell_type": "code",
      "execution_count": 20,
      "metadata": {
        "id": "7uVuUwu_wels"
      },
      "outputs": [
        {
          "data": {
            "text/html": [
              "<div>\n",
              "<style scoped>\n",
              "    .dataframe tbody tr th:only-of-type {\n",
              "        vertical-align: middle;\n",
              "    }\n",
              "\n",
              "    .dataframe tbody tr th {\n",
              "        vertical-align: top;\n",
              "    }\n",
              "\n",
              "    .dataframe thead th {\n",
              "        text-align: right;\n",
              "    }\n",
              "</style>\n",
              "<table border=\"1\" class=\"dataframe\">\n",
              "  <thead>\n",
              "    <tr style=\"text-align: right;\">\n",
              "      <th></th>\n",
              "      <th>LCLid</th>\n",
              "      <th>day</th>\n",
              "      <th>hh_0</th>\n",
              "      <th>hh_1</th>\n",
              "      <th>hh_2</th>\n",
              "      <th>hh_3</th>\n",
              "      <th>hh_4</th>\n",
              "      <th>hh_5</th>\n",
              "      <th>hh_6</th>\n",
              "      <th>hh_7</th>\n",
              "      <th>...</th>\n",
              "      <th>hh_38</th>\n",
              "      <th>hh_39</th>\n",
              "      <th>hh_40</th>\n",
              "      <th>hh_41</th>\n",
              "      <th>hh_42</th>\n",
              "      <th>hh_43</th>\n",
              "      <th>hh_44</th>\n",
              "      <th>hh_45</th>\n",
              "      <th>hh_46</th>\n",
              "      <th>hh_47</th>\n",
              "    </tr>\n",
              "  </thead>\n",
              "  <tbody>\n",
              "    <tr>\n",
              "      <th>1435</th>\n",
              "      <td>MAC000150</td>\n",
              "      <td>2011-11-24</td>\n",
              "      <td>0.158</td>\n",
              "      <td>0.204</td>\n",
              "      <td>0.158</td>\n",
              "      <td>0.149</td>\n",
              "      <td>0.165</td>\n",
              "      <td>0.135</td>\n",
              "      <td>0.137</td>\n",
              "      <td>0.094</td>\n",
              "      <td>...</td>\n",
              "      <td>0.222</td>\n",
              "      <td>0.376</td>\n",
              "      <td>1.069</td>\n",
              "      <td>0.350</td>\n",
              "      <td>0.671</td>\n",
              "      <td>0.434</td>\n",
              "      <td>0.711</td>\n",
              "      <td>0.198</td>\n",
              "      <td>0.228</td>\n",
              "      <td>0.228</td>\n",
              "    </tr>\n",
              "    <tr>\n",
              "      <th>23891</th>\n",
              "      <td>MAC004919</td>\n",
              "      <td>2012-01-22</td>\n",
              "      <td>0.098</td>\n",
              "      <td>0.051</td>\n",
              "      <td>0.032</td>\n",
              "      <td>0.066</td>\n",
              "      <td>0.026</td>\n",
              "      <td>0.025</td>\n",
              "      <td>0.062</td>\n",
              "      <td>0.039</td>\n",
              "      <td>...</td>\n",
              "      <td>0.549</td>\n",
              "      <td>0.461</td>\n",
              "      <td>0.309</td>\n",
              "      <td>0.310</td>\n",
              "      <td>0.073</td>\n",
              "      <td>0.095</td>\n",
              "      <td>0.086</td>\n",
              "      <td>0.063</td>\n",
              "      <td>0.088</td>\n",
              "      <td>0.050</td>\n",
              "    </tr>\n",
              "    <tr>\n",
              "      <th>19711</th>\n",
              "      <td>MAC005041</td>\n",
              "      <td>2012-02-19</td>\n",
              "      <td>0.392</td>\n",
              "      <td>5.556</td>\n",
              "      <td>5.432</td>\n",
              "      <td>5.393</td>\n",
              "      <td>4.893</td>\n",
              "      <td>4.648</td>\n",
              "      <td>4.161</td>\n",
              "      <td>2.961</td>\n",
              "      <td>...</td>\n",
              "      <td>0.405</td>\n",
              "      <td>0.431</td>\n",
              "      <td>0.457</td>\n",
              "      <td>0.393</td>\n",
              "      <td>0.365</td>\n",
              "      <td>0.392</td>\n",
              "      <td>0.407</td>\n",
              "      <td>0.354</td>\n",
              "      <td>0.991</td>\n",
              "      <td>0.921</td>\n",
              "    </tr>\n",
              "    <tr>\n",
              "      <th>3987</th>\n",
              "      <td>MAC000214</td>\n",
              "      <td>2012-03-11</td>\n",
              "      <td>0.096</td>\n",
              "      <td>0.062</td>\n",
              "      <td>0.044</td>\n",
              "      <td>0.096</td>\n",
              "      <td>0.066</td>\n",
              "      <td>0.043</td>\n",
              "      <td>0.091</td>\n",
              "      <td>0.069</td>\n",
              "      <td>...</td>\n",
              "      <td>0.295</td>\n",
              "      <td>0.253</td>\n",
              "      <td>0.182</td>\n",
              "      <td>0.169</td>\n",
              "      <td>0.265</td>\n",
              "      <td>0.305</td>\n",
              "      <td>0.294</td>\n",
              "      <td>0.285</td>\n",
              "      <td>0.221</td>\n",
              "      <td>0.218</td>\n",
              "    </tr>\n",
              "    <tr>\n",
              "      <th>22271</th>\n",
              "      <td>MAC004391</td>\n",
              "      <td>2012-03-28</td>\n",
              "      <td>0.343</td>\n",
              "      <td>0.169</td>\n",
              "      <td>0.190</td>\n",
              "      <td>0.175</td>\n",
              "      <td>0.123</td>\n",
              "      <td>0.183</td>\n",
              "      <td>0.142</td>\n",
              "      <td>0.295</td>\n",
              "      <td>...</td>\n",
              "      <td>0.607</td>\n",
              "      <td>0.488</td>\n",
              "      <td>0.256</td>\n",
              "      <td>0.401</td>\n",
              "      <td>0.804</td>\n",
              "      <td>0.671</td>\n",
              "      <td>0.956</td>\n",
              "      <td>0.475</td>\n",
              "      <td>0.176</td>\n",
              "      <td>0.260</td>\n",
              "    </tr>\n",
              "  </tbody>\n",
              "</table>\n",
              "<p>5 rows × 50 columns</p>\n",
              "</div>"
            ],
            "text/plain": [
              "           LCLid         day   hh_0   hh_1   hh_2   hh_3   hh_4   hh_5   hh_6  \\\n",
              "1435   MAC000150  2011-11-24  0.158  0.204  0.158  0.149  0.165  0.135  0.137   \n",
              "23891  MAC004919  2012-01-22  0.098  0.051  0.032  0.066  0.026  0.025  0.062   \n",
              "19711  MAC005041  2012-02-19  0.392  5.556  5.432  5.393  4.893  4.648  4.161   \n",
              "3987   MAC000214  2012-03-11  0.096  0.062  0.044  0.096  0.066  0.043  0.091   \n",
              "22271  MAC004391  2012-03-28  0.343  0.169  0.190  0.175  0.123  0.183  0.142   \n",
              "\n",
              "        hh_7  ...  hh_38  hh_39  hh_40  hh_41  hh_42  hh_43  hh_44  hh_45  \\\n",
              "1435   0.094  ...  0.222  0.376  1.069  0.350  0.671  0.434  0.711  0.198   \n",
              "23891  0.039  ...  0.549  0.461  0.309  0.310  0.073  0.095  0.086  0.063   \n",
              "19711  2.961  ...  0.405  0.431  0.457  0.393  0.365  0.392  0.407  0.354   \n",
              "3987   0.069  ...  0.295  0.253  0.182  0.169  0.265  0.305  0.294  0.285   \n",
              "22271  0.295  ...  0.607  0.488  0.256  0.401  0.804  0.671  0.956  0.475   \n",
              "\n",
              "       hh_46  hh_47  \n",
              "1435   0.228  0.228  \n",
              "23891  0.088  0.050  \n",
              "19711  0.991  0.921  \n",
              "3987   0.221  0.218  \n",
              "22271  0.176  0.260  \n",
              "\n",
              "[5 rows x 50 columns]"
            ]
          },
          "execution_count": 20,
          "metadata": {},
          "output_type": "execute_result"
        }
      ],
      "source": [
        "#https://www.tensorflow.org/tutorials/structured_data/time_series\n",
        "\n",
        "import os\n",
        "import datetime\n",
        "\n",
        "import IPython\n",
        "import IPython.display\n",
        "import matplotlib as mpl\n",
        "import matplotlib.pyplot as plt\n",
        "import numpy as np\n",
        "import pandas as pd\n",
        "import seaborn as sns\n",
        "import tensorflow as tf\n",
        "\n",
        "mpl.rcParams['figure.figsize'] = (8, 6)\n",
        "mpl.rcParams['axes.grid'] = False\n",
        "\n",
        "londonDataSortedByDay\n",
        "df = londonDataSortedByDay[5::17520]\n",
        "\n",
        "df.head()"
      ]
    },
    {
      "cell_type": "code",
      "execution_count": 21,
      "metadata": {},
      "outputs": [
        {
          "ename": "ValueError",
          "evalue": "RFFT requires tf.float32 or tf.float64 inputs, got: tf.Tensor(\n[b'hh_0' b'hh_1' b'hh_2' b'hh_3' b'hh_4' b'hh_5' b'hh_6' b'hh_7' b'hh_8'\n b'hh_9' b'hh_10' b'hh_11' b'hh_12' b'hh_13' b'hh_14' b'hh_15' b'hh_16'\n b'hh_17' b'hh_18' b'hh_19' b'hh_20' b'hh_21' b'hh_22' b'hh_23' b'hh_24'\n b'hh_25' b'hh_26' b'hh_27' b'hh_28' b'hh_29' b'hh_30' b'hh_31' b'hh_32'\n b'hh_33' b'hh_34' b'hh_35' b'hh_36' b'hh_37' b'hh_38' b'hh_39' b'hh_40'\n b'hh_41' b'hh_42' b'hh_43' b'hh_44' b'hh_45' b'hh_46' b'hh_47'], shape=(48,), dtype=string)",
          "output_type": "error",
          "traceback": [
            "\u001b[1;31m---------------------------------------------------------------------------\u001b[0m",
            "\u001b[1;31mValueError\u001b[0m                                Traceback (most recent call last)",
            "Cell \u001b[1;32mIn[21], line 1\u001b[0m\n\u001b[1;32m----> 1\u001b[0m fft \u001b[38;5;241m=\u001b[39m \u001b[43mtf\u001b[49m\u001b[38;5;241;43m.\u001b[39;49m\u001b[43msignal\u001b[49m\u001b[38;5;241;43m.\u001b[39;49m\u001b[43mrfft\u001b[49m\u001b[43m(\u001b[49m\u001b[43mdf\u001b[49m\u001b[38;5;241;43m.\u001b[39;49m\u001b[43mcolumns\u001b[49m\u001b[43m[\u001b[49m\u001b[38;5;241;43m2\u001b[39;49m\u001b[43m:\u001b[49m\u001b[43m]\u001b[49m\u001b[43m)\u001b[49m\n\u001b[0;32m      3\u001b[0m f_per_dataset \u001b[38;5;241m=\u001b[39m np\u001b[38;5;241m.\u001b[39marange(\u001b[38;5;241m0\u001b[39m, \u001b[38;5;28mlen\u001b[39m(fft))\n\u001b[0;32m      5\u001b[0m n_samples_h \u001b[38;5;241m=\u001b[39m \u001b[38;5;28mlen\u001b[39m(df\u001b[38;5;241m.\u001b[39mcolumns[\u001b[38;5;241m2\u001b[39m:])\n",
            "File \u001b[1;32mc:\\Users\\brely\\anaconda3\\lib\\site-packages\\tensorflow\\python\\ops\\signal\\fft_ops.py:147\u001b[0m, in \u001b[0;36m_rfft_wrapper.<locals>._rfft\u001b[1;34m(input_tensor, fft_length, name)\u001b[0m\n\u001b[0;32m    144\u001b[0m input_tensor \u001b[38;5;241m=\u001b[39m _ops\u001b[38;5;241m.\u001b[39mconvert_to_tensor(input_tensor,\n\u001b[0;32m    145\u001b[0m                                       preferred_dtype\u001b[38;5;241m=\u001b[39m_dtypes\u001b[38;5;241m.\u001b[39mfloat32)\n\u001b[0;32m    146\u001b[0m \u001b[38;5;28;01mif\u001b[39;00m input_tensor\u001b[38;5;241m.\u001b[39mdtype \u001b[38;5;129;01mnot\u001b[39;00m \u001b[38;5;129;01min\u001b[39;00m (_dtypes\u001b[38;5;241m.\u001b[39mfloat32, _dtypes\u001b[38;5;241m.\u001b[39mfloat64):\n\u001b[1;32m--> 147\u001b[0m   \u001b[38;5;28;01mraise\u001b[39;00m \u001b[38;5;167;01mValueError\u001b[39;00m(\n\u001b[0;32m    148\u001b[0m       \u001b[38;5;124m\"\u001b[39m\u001b[38;5;124mRFFT requires tf.float32 or tf.float64 inputs, got: \u001b[39m\u001b[38;5;132;01m%s\u001b[39;00m\u001b[38;5;124m\"\u001b[39m \u001b[38;5;241m%\u001b[39m\n\u001b[0;32m    149\u001b[0m       input_tensor)\n\u001b[0;32m    150\u001b[0m real_dtype \u001b[38;5;241m=\u001b[39m input_tensor\u001b[38;5;241m.\u001b[39mdtype\n\u001b[0;32m    151\u001b[0m \u001b[38;5;28;01mif\u001b[39;00m real_dtype \u001b[38;5;241m==\u001b[39m _dtypes\u001b[38;5;241m.\u001b[39mfloat32:\n",
            "\u001b[1;31mValueError\u001b[0m: RFFT requires tf.float32 or tf.float64 inputs, got: tf.Tensor(\n[b'hh_0' b'hh_1' b'hh_2' b'hh_3' b'hh_4' b'hh_5' b'hh_6' b'hh_7' b'hh_8'\n b'hh_9' b'hh_10' b'hh_11' b'hh_12' b'hh_13' b'hh_14' b'hh_15' b'hh_16'\n b'hh_17' b'hh_18' b'hh_19' b'hh_20' b'hh_21' b'hh_22' b'hh_23' b'hh_24'\n b'hh_25' b'hh_26' b'hh_27' b'hh_28' b'hh_29' b'hh_30' b'hh_31' b'hh_32'\n b'hh_33' b'hh_34' b'hh_35' b'hh_36' b'hh_37' b'hh_38' b'hh_39' b'hh_40'\n b'hh_41' b'hh_42' b'hh_43' b'hh_44' b'hh_45' b'hh_46' b'hh_47'], shape=(48,), dtype=string)"
          ]
        }
      ],
      "source": [
        "fft = tf.signal.rfft(df.columns[2:])\n",
        "\n",
        "f_per_dataset = np.arange(0, len(fft))\n",
        "\n",
        "n_samples_h = len(df.columns[2:])\n",
        "hh_per_year = 48*365.2524\n",
        "years_per_dataset = n_samples_h/(hh_per_year)\n",
        "\n",
        "f_per_year = f_per_dataset/years_per_dataset\n",
        "plt.step(f_per_year, np.abs(fft))\n",
        "plt.xscale('log')\n",
        "plt.ylim(0, 400000)\n",
        "plt.xlim([0.1, max(plt.xlim())])\n",
        "plt.xticks([1, 365.2524], labels=['1/Year', '1/day'])\n",
        "_ = plt.xlabel('Frequency (log scale)')"
      ]
    },
    {
      "cell_type": "markdown",
      "metadata": {
        "id": "bHuGfumEvkua"
      },
      "source": [
        "# STEP 2: FEATURE ENGINEERING / DATA CLEANING / PRE-PROCESSING TECHNIQUES"
      ]
    },
    {
      "cell_type": "markdown",
      "metadata": {
        "id": "d0S1rGcDvSl5"
      },
      "source": [
        "## Label your target variable"
      ]
    },
    {
      "cell_type": "code",
      "execution_count": null,
      "metadata": {
        "id": "MYS-_zVcwd_r"
      },
      "outputs": [],
      "source": [
        "# Ex) Change \"yes\" or \"no\" to 1 or 0 so the model understands the label"
      ]
    },
    {
      "cell_type": "code",
      "execution_count": null,
      "metadata": {
        "id": "-Mr2SBa4wdEo"
      },
      "outputs": [],
      "source": []
    },
    {
      "cell_type": "markdown",
      "metadata": {
        "id": "EPW13lhkwlS6"
      },
      "source": [
        "## Fix the data imbalance and other problems from STEP 1"
      ]
    },
    {
      "cell_type": "code",
      "execution_count": null,
      "metadata": {
        "id": "y2sciOk5yIA5"
      },
      "outputs": [],
      "source": []
    },
    {
      "cell_type": "markdown",
      "metadata": {
        "id": "cNaZexBKwrWx"
      },
      "source": [
        "## Seperate features (x) from labels (y)"
      ]
    },
    {
      "cell_type": "code",
      "execution_count": null,
      "metadata": {
        "id": "1mhjJgSGyHUB"
      },
      "outputs": [],
      "source": []
    },
    {
      "cell_type": "markdown",
      "metadata": {
        "id": "ijBd2InWw2BN"
      },
      "source": [
        "## Feature Reduction"
      ]
    },
    {
      "cell_type": "code",
      "execution_count": null,
      "metadata": {
        "id": "b__jQ5YJyE_G"
      },
      "outputs": [],
      "source": []
    },
    {
      "cell_type": "markdown",
      "metadata": {
        "id": "gBO67tBlw8Ss"
      },
      "source": [
        "## Normalize / Scale the Data"
      ]
    },
    {
      "cell_type": "code",
      "execution_count": null,
      "metadata": {
        "id": "g0NQS2PLyEeH"
      },
      "outputs": [],
      "source": []
    },
    {
      "cell_type": "markdown",
      "metadata": {
        "id": "Lq06YLwyxBor"
      },
      "source": [
        "## Investigate Variance or Feature Importance"
      ]
    },
    {
      "cell_type": "code",
      "execution_count": null,
      "metadata": {
        "id": "RX9AJBYQyD3l"
      },
      "outputs": [],
      "source": []
    },
    {
      "cell_type": "markdown",
      "metadata": {
        "id": "gq8yldaFxbq-"
      },
      "source": [
        "# STEP 3: MODEL TRAINING & BUILDING\n"
      ]
    },
    {
      "cell_type": "code",
      "execution_count": null,
      "metadata": {
        "id": "khN89Pe7xiN4"
      },
      "outputs": [],
      "source": []
    },
    {
      "cell_type": "markdown",
      "metadata": {
        "id": "Hh8N0_yGxi66"
      },
      "source": [
        "## Split into Train and Test data"
      ]
    },
    {
      "cell_type": "code",
      "execution_count": null,
      "metadata": {
        "id": "pAWwUcSEyCk0"
      },
      "outputs": [],
      "source": []
    },
    {
      "cell_type": "markdown",
      "metadata": {
        "id": "iXKSCFoRxumo"
      },
      "source": [
        "## Use a Model"
      ]
    },
    {
      "cell_type": "code",
      "execution_count": null,
      "metadata": {
        "id": "QpDhyjwNyCDm"
      },
      "outputs": [],
      "source": []
    },
    {
      "cell_type": "markdown",
      "metadata": {
        "id": "O4SGGaDWxz9X"
      },
      "source": [
        "## Perform a Hyperparameter Search"
      ]
    },
    {
      "cell_type": "code",
      "execution_count": null,
      "metadata": {
        "id": "qckGo2oRyAML"
      },
      "outputs": [],
      "source": []
    },
    {
      "cell_type": "markdown",
      "metadata": {
        "id": "1bap9XXTynZZ"
      },
      "source": [
        "## Save the best model"
      ]
    },
    {
      "cell_type": "code",
      "execution_count": null,
      "metadata": {
        "id": "85oE97gyyve_"
      },
      "outputs": [],
      "source": []
    },
    {
      "cell_type": "markdown",
      "metadata": {
        "id": "ZCNgUErzyQ54"
      },
      "source": [
        "# STEP 4: EVALUATE THE MODEL"
      ]
    },
    {
      "cell_type": "markdown",
      "metadata": {
        "id": "FwZk0r8ry-Hu"
      },
      "source": [
        "## Look at Metrics - Ex) Precision, Recall, F1 score"
      ]
    },
    {
      "cell_type": "code",
      "execution_count": null,
      "metadata": {
        "id": "PS9-fA9uzNxF"
      },
      "outputs": [],
      "source": []
    },
    {
      "cell_type": "markdown",
      "metadata": {
        "id": "FftWhxZ0ycNr"
      },
      "source": [
        "## Plot a Confusion Matrix"
      ]
    },
    {
      "cell_type": "code",
      "execution_count": null,
      "metadata": {
        "id": "G-A8xydGywLa"
      },
      "outputs": [],
      "source": []
    },
    {
      "cell_type": "markdown",
      "metadata": {
        "id": "jg77bvA51bzL"
      },
      "source": [
        "# STEP 5: DEPLOY MODEL"
      ]
    },
    {
      "cell_type": "code",
      "execution_count": null,
      "metadata": {
        "id": "Xq1wWTmo2Xfl"
      },
      "outputs": [],
      "source": []
    }
  ],
  "metadata": {
    "colab": {
      "authorship_tag": "ABX9TyPS3qGwBFpq6ihHfebWnMek",
      "include_colab_link": true,
      "provenance": [],
      "toc_visible": true
    },
    "kernelspec": {
      "display_name": "Python 3",
      "name": "python3"
    },
    "language_info": {
      "codemirror_mode": {
        "name": "ipython",
        "version": 3
      },
      "file_extension": ".py",
      "mimetype": "text/x-python",
      "name": "python",
      "nbconvert_exporter": "python",
      "pygments_lexer": "ipython3",
      "version": "3.10.9"
    }
  },
  "nbformat": 4,
  "nbformat_minor": 0
}

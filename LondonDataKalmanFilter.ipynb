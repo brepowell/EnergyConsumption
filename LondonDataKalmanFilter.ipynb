{
  "cells": [
    {
      "cell_type": "markdown",
      "metadata": {
        "colab_type": "text",
        "id": "view-in-github"
      },
      "source": [
        "<a href=\"https://colab.research.google.com/github/brepowell/ML-Contest-Series/blob/main/MLSeriesSupervisedLearningTemplate.ipynb\" target=\"_parent\"><img src=\"https://colab.research.google.com/assets/colab-badge.svg\" alt=\"Open In Colab\"/></a>"
      ]
    },
    {
      "cell_type": "markdown",
      "metadata": {
        "id": "FM6YqhcasT5w"
      },
      "source": [
        "Author: Breanna Powell\n",
        "\n",
        "CSS 539\n",
        "\n",
        "# To run:\n",
        "Use an IDE that will allow you to open a Jupyter Notebook.\n",
        "\n",
        "For example, use Anaconda Navigator to open Visual Studio Code.\n",
        "\n",
        "You may need to select a kernel to run the program.\n",
        "\n",
        "I used base(Python 3.10.9)"
      ]
    },
    {
      "cell_type": "markdown",
      "metadata": {
        "id": "mA7frvLc7vtj"
      },
      "source": [
        "## Import Libraries"
      ]
    },
    {
      "cell_type": "code",
      "execution_count": 1,
      "metadata": {
        "id": "MHcOyHzp7x5l"
      },
      "outputs": [],
      "source": [
        "import pandas as pd\n",
        "import matplotlib as plt\n",
        "\n",
        "# These libraries are supposed to accelerate some operations\n",
        "import numexpr\n",
        "import bottleneck\n",
        "pd.set_option(\"compute.use_bottleneck\", False)\n",
        "pd.set_option(\"compute.use_numexpr\", False)"
      ]
    },
    {
      "cell_type": "markdown",
      "metadata": {},
      "source": [
        "## Data Information"
      ]
    },
    {
      "cell_type": "markdown",
      "metadata": {},
      "source": [
        "From:\n",
        "https://data.london.gov.uk/dataset/smartmeter-energy-use-data-in-london-households\n",
        "\n",
        "More Info:\n",
        "https://innovation.ukpowernetworks.co.uk/projects/low-carbon-london\n",
        "\n",
        "\"Created 9 years ago, updated 2 years ago\n",
        "Energy consumption readings for a sample of 5,567 London Households that took part in the UK Power Networks led Low Carbon London project between November 2011 and February 2014.\n",
        "\n",
        "Readings were taken at half hourly intervals. The customers in the trial were recruited as a balanced sample representative of the Greater London population.\n",
        "\n",
        "The dataset contains energy consumption, in kWh (per half hour), unique household identifier, date and time. The CSV file is around 10GB when unzipped and contains around 167million rows.\n",
        "\n",
        "Within the data set are two groups of customers. The first is a sub-group, of approximately 1100 customers, who were subjected to Dynamic Time of Use (dToU) energy prices throughout the 2013 calendar year period. The tariff prices were given a day ahead via the Smart Meter IHD (In Home Display) or text message to mobile phone. Customers were issued High (67.20p/kWh), Low (3.99p/kWh) or normal (11.76p/kWh) price signals and the times of day these applied. The dates/times and the price signal schedule is availaible as part of this dataset. All non-Time of Use customers were on a flat rate tariff of 14.228pence/kWh.\n",
        "\n",
        "The signals given were designed to be representative of the types of signal that may be used in the future to manage both high renewable generation (supply following) operation and also test the potential to use high price signals to reduce stress on local distribution grids during periods of stress.\n",
        "\n",
        "The remaining sample of approximately 4500 customers energy consumption readings were not subject to the dToU tariff.\"\n"
      ]
    },
    {
      "cell_type": "markdown",
      "metadata": {
        "id": "gq8yldaFxbq-"
      },
      "source": [
        "# Kalman Filter\n"
      ]
    },
    {
      "cell_type": "code",
      "execution_count": 2,
      "metadata": {
        "id": "khN89Pe7xiN4"
      },
      "outputs": [
        {
          "name": "stdout",
          "output_type": "stream",
          "text": [
            "WARNING:tensorflow:From c:\\Users\\brely\\anaconda3\\lib\\site-packages\\keras\\src\\losses.py:2976: The name tf.losses.sparse_softmax_cross_entropy is deprecated. Please use tf.compat.v1.losses.sparse_softmax_cross_entropy instead.\n",
            "\n"
          ]
        }
      ],
      "source": [
        "import pandas as pd\n",
        "import matplotlib.pyplot as plt\n",
        "import tensorflow as tf\n",
        "import numpy as np\n",
        "import numexpr\n",
        "import bottleneck\n",
        "\n",
        "path = \"Data/pickles/\"\n",
        "train_df = pd.read_pickle(path + \"data_norm_training.pkl\")\n",
        "val_df = pd.read_pickle(path + \"data_norm_validation.pkl\")\n",
        "test_df = pd.read_pickle(path + \"data_norm_test.pkl\")\n",
        "\n",
        "import pickle\n",
        "with open('indeces.pkl', 'rb') as f:\n",
        "    column_indices = pickle.load(f)"
      ]
    },
    {
      "cell_type": "code",
      "execution_count": 5,
      "metadata": {
        "id": "Xq1wWTmo2Xfl"
      },
      "outputs": [
        {
          "ename": "NameError",
          "evalue": "name 'observations' is not defined",
          "output_type": "error",
          "traceback": [
            "\u001b[1;31m---------------------------------------------------------------------------\u001b[0m",
            "\u001b[1;31mNameError\u001b[0m                                 Traceback (most recent call last)",
            "Cell \u001b[1;32mIn[5], line 18\u001b[0m\n\u001b[0;32m      4\u001b[0m \u001b[38;5;28;01mimport\u001b[39;00m \u001b[38;5;21;01mtensorflow_probability\u001b[39;00m \u001b[38;5;28;01mas\u001b[39;00m \u001b[38;5;21;01mtfp\u001b[39;00m\n\u001b[0;32m      6\u001b[0m \u001b[38;5;66;03m# observations a (structure of) Tensors,\u001b[39;00m\n\u001b[0;32m      7\u001b[0m \u001b[38;5;66;03m#     each of shape concat([[num_timesteps, b1, ..., bN], [event_size]]) with scalar \u001b[39;00m\n\u001b[0;32m      8\u001b[0m \u001b[38;5;66;03m#     event_size and optional batch dimensions b1, ..., bN.\u001b[39;00m\n\u001b[1;32m   (...)\u001b[0m\n\u001b[0;32m     14\u001b[0m \u001b[38;5;66;03m# observation_jacobian_fn\ta Python callable that accepts a (batched) vector of length state_size and returns a (batched) matrix of size [state_size, event_size], representing the Jacobian of observation_fn.\u001b[39;00m\n\u001b[0;32m     15\u001b[0m \u001b[38;5;66;03m# name\tPython str name for ops created by this method. Default value: None (i.e., 'extended_kalman_filter').\u001b[39;00m\n\u001b[0;32m     17\u001b[0m tfp\u001b[38;5;241m.\u001b[39mexperimental\u001b[38;5;241m.\u001b[39msequential\u001b[38;5;241m.\u001b[39mextended_kalman_filter(\n\u001b[1;32m---> 18\u001b[0m     \u001b[43mobservations\u001b[49m,\n\u001b[0;32m     19\u001b[0m     initial_state_prior,\n\u001b[0;32m     20\u001b[0m     transition_fn,\n\u001b[0;32m     21\u001b[0m     observation_fn,\n\u001b[0;32m     22\u001b[0m     transition_jacobian_fn,\n\u001b[0;32m     23\u001b[0m     observation_jacobian_fn,\n\u001b[0;32m     24\u001b[0m     name\u001b[38;5;241m=\u001b[39m\u001b[38;5;28;01mNone\u001b[39;00m\n\u001b[0;32m     25\u001b[0m )\n",
            "\u001b[1;31mNameError\u001b[0m: name 'observations' is not defined"
          ]
        }
      ],
      "source": [
        "# https://www.tensorflow.org/probability/install\n",
        "# https://www.tensorflow.org/probability/api_docs/python/tfp/experimental/sequential/extended_kalman_filter\n",
        "import tensorflow as tf\n",
        "import tensorflow_probability as tfp\n",
        "\n",
        "# observations a (structure of) Tensors,\n",
        "#     each of shape concat([[num_timesteps, b1, ..., bN], [event_size]]) with scalar \n",
        "#     event_size and optional batch dimensions b1, ..., bN.\n",
        "# initial_state_prior a tfd.Distribution instance (typically MultivariateNormal) \n",
        "#     with event_shape equal to state_size and an optional batch_shape of [b1, ..., bN], representing the prior over the state.\n",
        "# transition_fn\ta Python callable that accepts (batched) vectors of length state_size, and returns a tfd.Distribution instance, typically a MultivariateNormal, representing the state transition and covariance.\n",
        "# observation_fn\ta Python callable that accepts a (batched) vector of length state_size and returns a tfd.Distribution instance, typically a MultivariateNormal representing the observation model and covariance.\n",
        "# transition_jacobian_fn\ta Python callable that accepts a (batched) vector of length state_size and returns a (batched) matrix of shape [state_size, state_size], representing the Jacobian of transition_fn.\n",
        "# observation_jacobian_fn\ta Python callable that accepts a (batched) vector of length state_size and returns a (batched) matrix of size [state_size, event_size], representing the Jacobian of observation_fn.\n",
        "# name\tPython str name for ops created by this method. Default value: None (i.e., 'extended_kalman_filter').\n",
        "\n",
        "tfp.experimental.sequential.extended_kalman_filter(\n",
        "    observations,\n",
        "    initial_state_prior,\n",
        "    transition_fn,\n",
        "    observation_fn,\n",
        "    transition_jacobian_fn,\n",
        "    observation_jacobian_fn,\n",
        "    name=None\n",
        ")"
      ]
    }
  ],
  "metadata": {
    "colab": {
      "authorship_tag": "ABX9TyPS3qGwBFpq6ihHfebWnMek",
      "include_colab_link": true,
      "provenance": [],
      "toc_visible": true
    },
    "kernelspec": {
      "display_name": "Python 3",
      "name": "python3"
    },
    "language_info": {
      "codemirror_mode": {
        "name": "ipython",
        "version": 3
      },
      "file_extension": ".py",
      "mimetype": "text/x-python",
      "name": "python",
      "nbconvert_exporter": "python",
      "pygments_lexer": "ipython3",
      "version": "3.10.9"
    }
  },
  "nbformat": 4,
  "nbformat_minor": 0
}
